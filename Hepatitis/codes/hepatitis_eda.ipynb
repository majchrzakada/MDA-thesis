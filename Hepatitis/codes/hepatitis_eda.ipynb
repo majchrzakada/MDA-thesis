{
 "cells": [
  {
   "cell_type": "code",
   "execution_count": 1,
   "metadata": {
    "vscode": {
     "languageId": "r"
    }
   },
   "outputs": [
    {
     "name": "stderr",
     "output_type": "stream",
     "text": [
      "Warning message:\n",
      "\"pakiet 'mice' został zbudowany w wersji R 4.3.2\"\n",
      "\n",
      "Dołączanie pakietu: 'mice'\n",
      "\n",
      "\n",
      "Następujący obiekt został zakryty z 'package:stats':\n",
      "\n",
      "    filter\n",
      "\n",
      "\n",
      "Następujące obiekty zostały zakryte z 'package:base':\n",
      "\n",
      "    cbind, rbind\n",
      "\n",
      "\n",
      "Warning message:\n",
      "\"pakiet 'ggplot2' został zbudowany w wersji R 4.3.3\"\n",
      "\n",
      "Dołączanie pakietu: 'dplyr'\n",
      "\n",
      "\n",
      "Następujące obiekty zostały zakryte z 'package:stats':\n",
      "\n",
      "    filter, lag\n",
      "\n",
      "\n",
      "Następujące obiekty zostały zakryte z 'package:base':\n",
      "\n",
      "    intersect, setdiff, setequal, union\n",
      "\n",
      "\n",
      "* miceadds 3.16-18 (2023-01-06 10:54:00)\n",
      "\n",
      "Warning message:\n",
      "\"pakiet 'cowplot' został zbudowany w wersji R 4.3.2\"\n",
      "Warning message:\n",
      "\"pakiet 'DMwR2' został zbudowany w wersji R 4.3.2\"\n",
      "Registered S3 method overwritten by 'quantmod':\n",
      "  method            from\n",
      "  as.zoo.data.frame zoo \n",
      "\n",
      "Warning message:\n",
      "\"pakiet 'fastDummies' został zbudowany w wersji R 4.3.2\"\n",
      "Thank you for using fastDummies!\n",
      "\n",
      "To acknowledge our work, please cite the package:\n",
      "\n",
      "Kaplan, J. & Schlegel, B. (2023). fastDummies: Fast Creation of Dummy (Binary) Columns and Rows from Categorical Variables. Version 1.7.1. URL: https://github.com/jacobkap/fastDummies, https://jacobkap.github.io/fastDummies/.\n",
      "\n"
     ]
    }
   ],
   "source": [
    "library(mice)\n",
    "library(finalfit)\n",
    "library(ggplot2)\n",
    "library(dplyr)\n",
    "library(stats)\n",
    "library(miceadds)\n",
    "library(cowplot)\n",
    "library(DMwR2)\n",
    "# library(Hmisc)\n",
    "# library(corrplot)\n",
    "library(fastDummies)"
   ]
  },
  {
   "cell_type": "markdown",
   "metadata": {},
   "source": [
    "### Functions definitions"
   ]
  },
  {
   "cell_type": "code",
   "execution_count": 2,
   "metadata": {
    "vscode": {
     "languageId": "r"
    }
   },
   "outputs": [],
   "source": [
    "missMAR <- function(data, dependent, explanatory) {\n",
    "    #' Compute Fisher\"s independence test for missingness variable across explanatory variables.\n",
    "        \n",
    "    dep_miss <- paste(dependent, \"miss\", sep=\"_\")\n",
    "    data[[dep_miss]] <- ifelse(is.na(data[[dependent]]), \"Missing\", \"Not Missing\")\n",
    "    MD <- paste(\"Missing dependence:\", dependent)\n",
    "    fisher_res <- data.frame(x=character(0), y=character(0))\n",
    "    colnames(fisher_res) <- c(MD, \"p-value\")\n",
    "    \n",
    "    for (i in 1:length(explanatory)) {\n",
    "        \n",
    "        expl <- explanatory[i]\n",
    "        contingency_tab <- with(data, table(data[[expl]], data[[dep_miss]]))\n",
    "\n",
    "        pval <- tryCatch({\n",
    "            p_value <- fisher.test(contingency_tab, simulate.p.value = TRUE)$p.value\n",
    "            round(p_value, 2)\n",
    "        }, error = function(e) {\n",
    "            \"no variability\"  \n",
    "        })\n",
    "        new_row <- data.frame(x=expl, y=as.character(pval))\n",
    "        colnames(new_row) <- c(MD, \"p-value\")\n",
    "        fisher_res <- bind_rows(fisher_res, new_row)\n",
    "    }\n",
    "\n",
    "    data <- data[, !(names(data) %in% c(dep_miss))]\n",
    "    \n",
    "    return (fisher_res)\n",
    "}"
   ]
  },
  {
   "cell_type": "code",
   "execution_count": 3,
   "metadata": {
    "vscode": {
     "languageId": "r"
    }
   },
   "outputs": [],
   "source": [
    "missPlotCont <- function(data, miss_var, x_var, y_var, title) {\n",
    "        #' Missingness plot for continuous miss var.\n",
    "\n",
    "        ggplot(data, aes(x = !!as.name(x_var), y = !!as.name(y_var), colour = !!as.name(miss_var))) +\n",
    "        geom_point(data = data[data[[miss_var]] == \"Not Missing\", ], size = 4) +\n",
    "        geom_point(data = data[data[[miss_var]] == \"Missing\", ], size = 6) +\n",
    "        scale_colour_manual(values = c(\"steelblue1\", \"royalblue4\")) +\n",
    "        ggtitle(title) +\n",
    "        theme(\n",
    "        plot.title = element_text(size = 30),\n",
    "        axis.title = element_text(size = 22),         \n",
    "        axis.text.x = element_text(size = 18),        \n",
    "        axis.text.y = element_text(size = 18),\n",
    "        legend.text = element_text(size = 16),        \n",
    "        legend.title = element_text(size = 18)\n",
    "        )\n",
    "}"
   ]
  },
  {
   "cell_type": "code",
   "execution_count": 4,
   "metadata": {
    "vscode": {
     "languageId": "r"
    }
   },
   "outputs": [],
   "source": [
    "missPlotCat <- function(data, miss_var, y_var, wrap_var, title, n_col) {\n",
    "    #' Missingness plot for continuous miss var.\n",
    "\n",
    "    p <- ggplot(data, aes(x = \"\", y = !!as.name(y_var), fill = !!as.name(miss_var))) +\n",
    "        geom_bar(stat = \"identity\", width=1) +\n",
    "        coord_polar(\"y\", start=0) +\n",
    "        scale_fill_manual(values = c(\"steelblue1\", \"royalblue4\")) +\n",
    "        ggtitle(title) +\n",
    "        theme(\n",
    "            plot.title = element_text(size = 30),\n",
    "            axis.title = element_blank(),         \n",
    "            axis.text.x = element_blank(),        \n",
    "            axis.text.y = element_blank(),\n",
    "            legend.text = element_text(size = 16),        \n",
    "            legend.title = element_text(size = 18),\n",
    "            strip.text = element_text(size = 22),\n",
    "            panel.grid.major = element_blank(),\n",
    "            panel.grid.minor = element_blank()\n",
    "            )\n",
    "\n",
    "    p + facet_wrap(~ get(wrap_var), ncol = n_col)\n",
    "\n",
    "}"
   ]
  },
  {
   "cell_type": "code",
   "execution_count": 5,
   "metadata": {
    "vscode": {
     "languageId": "r"
    }
   },
   "outputs": [],
   "source": [
    "hep <- read.csv(\"hepatitis.csv\")\n",
    "hep[] <- lapply(hep, function(x) ifelse(x == \"\", NA, x))"
   ]
  },
  {
   "cell_type": "code",
   "execution_count": 6,
   "metadata": {
    "vscode": {
     "languageId": "r"
    }
   },
   "outputs": [],
   "source": [
    "fcols <- names(which(sapply(hep, is.character)))\n",
    "hep[fcols] <- hep[fcols] %>% lapply(factor)"
   ]
  },
  {
   "cell_type": "code",
   "execution_count": 7,
   "metadata": {
    "vscode": {
     "languageId": "r"
    }
   },
   "outputs": [
    {
     "name": "stderr",
     "output_type": "stream",
     "text": [
      "Warning message:\n",
      "\"\u001b[1m\u001b[22m`fct_explicit_na()` was deprecated in forcats 1.0.0.\n",
      "\u001b[36mℹ\u001b[39m Please use `fct_na_value_to_level()` instead.\n",
      "\u001b[36mℹ\u001b[39m The deprecated feature was likely used in the \u001b[34mfinalfit\u001b[39m package.\n",
      "  Please report the issue at \u001b[3m\u001b[34m<https://github.com/ewenharrison/finalfit/issues>\u001b[39m\u001b[23m.\"\n"
     ]
    },
    {
     "data": {
      "text/html": [
       "<dl>\n",
       "\t<dt>$Continuous</dt>\n",
       "\t\t<dd><table class=\"dataframe\">\n",
       "<caption>A data.frame: 6 × 12</caption>\n",
       "<thead>\n",
       "\t<tr><th></th><th scope=col>label</th><th scope=col>var_type</th><th scope=col>n</th><th scope=col>missing_n</th><th scope=col>missing_percent</th><th scope=col>mean</th><th scope=col>sd</th><th scope=col>min</th><th scope=col>quartile_25</th><th scope=col>median</th><th scope=col>quartile_75</th><th scope=col>max</th></tr>\n",
       "\t<tr><th></th><th scope=col>&lt;chr&gt;</th><th scope=col>&lt;chr&gt;</th><th scope=col>&lt;int&gt;</th><th scope=col>&lt;int&gt;</th><th scope=col>&lt;chr&gt;</th><th scope=col>&lt;chr&gt;</th><th scope=col>&lt;chr&gt;</th><th scope=col>&lt;chr&gt;</th><th scope=col>&lt;chr&gt;</th><th scope=col>&lt;chr&gt;</th><th scope=col>&lt;chr&gt;</th><th scope=col>&lt;chr&gt;</th></tr>\n",
       "</thead>\n",
       "<tbody>\n",
       "\t<tr><th scope=row>age</th><td><span style=white-space:pre-wrap>age          </span></td><td>&lt;int&gt;</td><td>155</td><td> 0</td><td>0.0 </td><td>41.2 </td><td>12.6</td><td>7.0 </td><td>32.0</td><td>39.0</td><td>50.0 </td><td>78.0 </td></tr>\n",
       "\t<tr><th scope=row>bilirubin</th><td><span style=white-space:pre-wrap>bilirubin    </span></td><td>&lt;dbl&gt;</td><td>149</td><td> 6</td><td>3.9 </td><td><span style=white-space:pre-wrap>1.4  </span></td><td>1.2 </td><td>0.3 </td><td>0.7 </td><td>1.0 </td><td><span style=white-space:pre-wrap>1.5  </span></td><td><span style=white-space:pre-wrap>8.0  </span></td></tr>\n",
       "\t<tr><th scope=row>alk_phosphate</th><td>alk_phosphate</td><td>&lt;int&gt;</td><td>126</td><td>29</td><td>18.7</td><td>105.3</td><td>51.5</td><td>26.0</td><td>74.2</td><td>85.0</td><td>132.2</td><td>295.0</td></tr>\n",
       "\t<tr><th scope=row>sgot</th><td><span style=white-space:pre-wrap>sgot         </span></td><td>&lt;int&gt;</td><td>151</td><td> 4</td><td>2.6 </td><td>85.9 </td><td>89.7</td><td>14.0</td><td>31.5</td><td>58.0</td><td>100.5</td><td>648.0</td></tr>\n",
       "\t<tr><th scope=row>albumin</th><td><span style=white-space:pre-wrap>albumin      </span></td><td>&lt;dbl&gt;</td><td>139</td><td>16</td><td>10.3</td><td><span style=white-space:pre-wrap>3.8  </span></td><td>0.7 </td><td>2.1 </td><td>3.4 </td><td>4.0 </td><td><span style=white-space:pre-wrap>4.2  </span></td><td><span style=white-space:pre-wrap>6.4  </span></td></tr>\n",
       "\t<tr><th scope=row>protime</th><td><span style=white-space:pre-wrap>protime      </span></td><td>&lt;int&gt;</td><td> 88</td><td>67</td><td>43.2</td><td>61.9 </td><td>22.9</td><td>0.0 </td><td>46.0</td><td>61.0</td><td>76.2 </td><td>100.0</td></tr>\n",
       "</tbody>\n",
       "</table>\n",
       "</dd>\n",
       "\t<dt>$Categorical</dt>\n",
       "\t\t<dd><table class=\"dataframe\">\n",
       "<caption>A data.frame: 14 × 9</caption>\n",
       "<thead>\n",
       "\t<tr><th></th><th scope=col>label</th><th scope=col>var_type</th><th scope=col>n</th><th scope=col>missing_n</th><th scope=col>missing_percent</th><th scope=col>levels_n</th><th scope=col>levels</th><th scope=col>levels_count</th><th scope=col>levels_percent</th></tr>\n",
       "\t<tr><th></th><th scope=col>&lt;chr&gt;</th><th scope=col>&lt;chr&gt;</th><th scope=col>&lt;int&gt;</th><th scope=col>&lt;int&gt;</th><th scope=col>&lt;chr&gt;</th><th scope=col>&lt;int&gt;</th><th scope=col>&lt;chr&gt;</th><th scope=col>&lt;chr&gt;</th><th scope=col>&lt;chr&gt;</th></tr>\n",
       "</thead>\n",
       "<tbody>\n",
       "\t<tr><th scope=row>sex</th><td><span style=white-space:pre-wrap>sex            </span></td><td>&lt;fct&gt;</td><td>155</td><td> 0</td><td>0.0</td><td>2</td><td><span style=white-space:pre-wrap>\"female\", \"male\"            </span></td><td><span style=white-space:pre-wrap>139, 16    </span></td><td><span style=white-space:pre-wrap>90, 10             </span></td></tr>\n",
       "\t<tr><th scope=row>steroid</th><td><span style=white-space:pre-wrap>steroid        </span></td><td>&lt;fct&gt;</td><td>154</td><td> 1</td><td>0.6</td><td>2</td><td>\"False\", \"True\", \"(Missing)\"</td><td><span style=white-space:pre-wrap>76, 78, 1  </span></td><td><span style=white-space:pre-wrap>49.03, 50.32,  0.65</span></td></tr>\n",
       "\t<tr><th scope=row>antivirals</th><td><span style=white-space:pre-wrap>antivirals     </span></td><td>&lt;fct&gt;</td><td>155</td><td> 0</td><td>0.0</td><td>2</td><td><span style=white-space:pre-wrap>\"False\", \"True\"             </span></td><td><span style=white-space:pre-wrap>131, 24    </span></td><td><span style=white-space:pre-wrap>85, 15             </span></td></tr>\n",
       "\t<tr><th scope=row>fatigue</th><td><span style=white-space:pre-wrap>fatigue        </span></td><td>&lt;fct&gt;</td><td>154</td><td> 1</td><td>0.6</td><td>2</td><td>\"False\", \"True\", \"(Missing)\"</td><td>54, 100, 1 </td><td><span style=white-space:pre-wrap>34.84, 64.52,  0.65</span></td></tr>\n",
       "\t<tr><th scope=row>malaise</th><td><span style=white-space:pre-wrap>malaise        </span></td><td>&lt;fct&gt;</td><td>154</td><td> 1</td><td>0.6</td><td>2</td><td>\"False\", \"True\", \"(Missing)\"</td><td><span style=white-space:pre-wrap>93, 61, 1  </span></td><td><span style=white-space:pre-wrap>60.00, 39.35,  0.65</span></td></tr>\n",
       "\t<tr><th scope=row>anorexia</th><td><span style=white-space:pre-wrap>anorexia       </span></td><td>&lt;fct&gt;</td><td>154</td><td> 1</td><td>0.6</td><td>2</td><td>\"False\", \"True\", \"(Missing)\"</td><td>122, 32, 1 </td><td><span style=white-space:pre-wrap>78.71, 20.65,  0.65</span></td></tr>\n",
       "\t<tr><th scope=row>liver_big</th><td><span style=white-space:pre-wrap>liver_big      </span></td><td>&lt;fct&gt;</td><td>145</td><td>10</td><td>6.5</td><td>2</td><td>\"False\", \"True\", \"(Missing)\"</td><td>25, 120, 10</td><td><span style=white-space:pre-wrap>16.1, 77.4,  6.5   </span></td></tr>\n",
       "\t<tr><th scope=row>liver_firm</th><td><span style=white-space:pre-wrap>liver_firm     </span></td><td>&lt;fct&gt;</td><td>144</td><td>11</td><td>7.1</td><td>2</td><td>\"False\", \"True\", \"(Missing)\"</td><td>84, 60, 11 </td><td><span style=white-space:pre-wrap>54.2, 38.7,  7.1   </span></td></tr>\n",
       "\t<tr><th scope=row>spleen_palpable</th><td>spleen_palpable</td><td>&lt;fct&gt;</td><td>150</td><td> 5</td><td>3.2</td><td>2</td><td>\"False\", \"True\", \"(Missing)\"</td><td>120, 30, 5 </td><td><span style=white-space:pre-wrap>77.4, 19.4,  3.2   </span></td></tr>\n",
       "\t<tr><th scope=row>spiders</th><td><span style=white-space:pre-wrap>spiders        </span></td><td>&lt;fct&gt;</td><td>150</td><td> 5</td><td>3.2</td><td>2</td><td>\"False\", \"True\", \"(Missing)\"</td><td><span style=white-space:pre-wrap>99, 51, 5  </span></td><td><span style=white-space:pre-wrap>63.9, 32.9,  3.2   </span></td></tr>\n",
       "\t<tr><th scope=row>ascites</th><td><span style=white-space:pre-wrap>ascites        </span></td><td>&lt;fct&gt;</td><td>150</td><td> 5</td><td>3.2</td><td>2</td><td>\"False\", \"True\", \"(Missing)\"</td><td>130, 20, 5 </td><td><span style=white-space:pre-wrap>83.9, 12.9,  3.2   </span></td></tr>\n",
       "\t<tr><th scope=row>varices</th><td><span style=white-space:pre-wrap>varices        </span></td><td>&lt;fct&gt;</td><td>150</td><td> 5</td><td>3.2</td><td>2</td><td>\"False\", \"True\", \"(Missing)\"</td><td>132, 18, 5 </td><td><span style=white-space:pre-wrap>85.2, 11.6,  3.2   </span></td></tr>\n",
       "\t<tr><th scope=row>histology</th><td><span style=white-space:pre-wrap>histology      </span></td><td>&lt;fct&gt;</td><td>155</td><td> 0</td><td>0.0</td><td>2</td><td><span style=white-space:pre-wrap>\"False\", \"True\"             </span></td><td><span style=white-space:pre-wrap>85, 70     </span></td><td><span style=white-space:pre-wrap>55, 45             </span></td></tr>\n",
       "\t<tr><th scope=row>class</th><td><span style=white-space:pre-wrap>class          </span></td><td>&lt;fct&gt;</td><td>155</td><td> 0</td><td>0.0</td><td>2</td><td><span style=white-space:pre-wrap>\"die\", \"live\"               </span></td><td><span style=white-space:pre-wrap>32, 123    </span></td><td><span style=white-space:pre-wrap>21, 79             </span></td></tr>\n",
       "</tbody>\n",
       "</table>\n",
       "</dd>\n",
       "</dl>\n"
      ],
      "text/latex": [
       "\\begin{description}\n",
       "\\item[\\$Continuous] A data.frame: 6 × 12\n",
       "\\begin{tabular}{r|llllllllllll}\n",
       "  & label & var\\_type & n & missing\\_n & missing\\_percent & mean & sd & min & quartile\\_25 & median & quartile\\_75 & max\\\\\n",
       "  & <chr> & <chr> & <int> & <int> & <chr> & <chr> & <chr> & <chr> & <chr> & <chr> & <chr> & <chr>\\\\\n",
       "\\hline\n",
       "\tage & age           & <int> & 155 &  0 & 0.0  & 41.2  & 12.6 & 7.0  & 32.0 & 39.0 & 50.0  & 78.0 \\\\\n",
       "\tbilirubin & bilirubin     & <dbl> & 149 &  6 & 3.9  & 1.4   & 1.2  & 0.3  & 0.7  & 1.0  & 1.5   & 8.0  \\\\\n",
       "\talk\\_phosphate & alk\\_phosphate & <int> & 126 & 29 & 18.7 & 105.3 & 51.5 & 26.0 & 74.2 & 85.0 & 132.2 & 295.0\\\\\n",
       "\tsgot & sgot          & <int> & 151 &  4 & 2.6  & 85.9  & 89.7 & 14.0 & 31.5 & 58.0 & 100.5 & 648.0\\\\\n",
       "\talbumin & albumin       & <dbl> & 139 & 16 & 10.3 & 3.8   & 0.7  & 2.1  & 3.4  & 4.0  & 4.2   & 6.4  \\\\\n",
       "\tprotime & protime       & <int> &  88 & 67 & 43.2 & 61.9  & 22.9 & 0.0  & 46.0 & 61.0 & 76.2  & 100.0\\\\\n",
       "\\end{tabular}\n",
       "\n",
       "\\item[\\$Categorical] A data.frame: 14 × 9\n",
       "\\begin{tabular}{r|lllllllll}\n",
       "  & label & var\\_type & n & missing\\_n & missing\\_percent & levels\\_n & levels & levels\\_count & levels\\_percent\\\\\n",
       "  & <chr> & <chr> & <int> & <int> & <chr> & <int> & <chr> & <chr> & <chr>\\\\\n",
       "\\hline\n",
       "\tsex & sex             & <fct> & 155 &  0 & 0.0 & 2 & \"female\", \"male\"             & 139, 16     & 90, 10             \\\\\n",
       "\tsteroid & steroid         & <fct> & 154 &  1 & 0.6 & 2 & \"False\", \"True\", \"(Missing)\" & 76, 78, 1   & 49.03, 50.32,  0.65\\\\\n",
       "\tantivirals & antivirals      & <fct> & 155 &  0 & 0.0 & 2 & \"False\", \"True\"              & 131, 24     & 85, 15             \\\\\n",
       "\tfatigue & fatigue         & <fct> & 154 &  1 & 0.6 & 2 & \"False\", \"True\", \"(Missing)\" & 54, 100, 1  & 34.84, 64.52,  0.65\\\\\n",
       "\tmalaise & malaise         & <fct> & 154 &  1 & 0.6 & 2 & \"False\", \"True\", \"(Missing)\" & 93, 61, 1   & 60.00, 39.35,  0.65\\\\\n",
       "\tanorexia & anorexia        & <fct> & 154 &  1 & 0.6 & 2 & \"False\", \"True\", \"(Missing)\" & 122, 32, 1  & 78.71, 20.65,  0.65\\\\\n",
       "\tliver\\_big & liver\\_big       & <fct> & 145 & 10 & 6.5 & 2 & \"False\", \"True\", \"(Missing)\" & 25, 120, 10 & 16.1, 77.4,  6.5   \\\\\n",
       "\tliver\\_firm & liver\\_firm      & <fct> & 144 & 11 & 7.1 & 2 & \"False\", \"True\", \"(Missing)\" & 84, 60, 11  & 54.2, 38.7,  7.1   \\\\\n",
       "\tspleen\\_palpable & spleen\\_palpable & <fct> & 150 &  5 & 3.2 & 2 & \"False\", \"True\", \"(Missing)\" & 120, 30, 5  & 77.4, 19.4,  3.2   \\\\\n",
       "\tspiders & spiders         & <fct> & 150 &  5 & 3.2 & 2 & \"False\", \"True\", \"(Missing)\" & 99, 51, 5   & 63.9, 32.9,  3.2   \\\\\n",
       "\tascites & ascites         & <fct> & 150 &  5 & 3.2 & 2 & \"False\", \"True\", \"(Missing)\" & 130, 20, 5  & 83.9, 12.9,  3.2   \\\\\n",
       "\tvarices & varices         & <fct> & 150 &  5 & 3.2 & 2 & \"False\", \"True\", \"(Missing)\" & 132, 18, 5  & 85.2, 11.6,  3.2   \\\\\n",
       "\thistology & histology       & <fct> & 155 &  0 & 0.0 & 2 & \"False\", \"True\"              & 85, 70      & 55, 45             \\\\\n",
       "\tclass & class           & <fct> & 155 &  0 & 0.0 & 2 & \"die\", \"live\"                & 32, 123     & 21, 79             \\\\\n",
       "\\end{tabular}\n",
       "\n",
       "\\end{description}\n"
      ],
      "text/markdown": [
       "$Continuous\n",
       ":   \n",
       "A data.frame: 6 × 12\n",
       "\n",
       "| <!--/--> | label &lt;chr&gt; | var_type &lt;chr&gt; | n &lt;int&gt; | missing_n &lt;int&gt; | missing_percent &lt;chr&gt; | mean &lt;chr&gt; | sd &lt;chr&gt; | min &lt;chr&gt; | quartile_25 &lt;chr&gt; | median &lt;chr&gt; | quartile_75 &lt;chr&gt; | max &lt;chr&gt; |\n",
       "|---|---|---|---|---|---|---|---|---|---|---|---|---|\n",
       "| age | age           | &lt;int&gt; | 155 |  0 | 0.0  | 41.2  | 12.6 | 7.0  | 32.0 | 39.0 | 50.0  | 78.0  |\n",
       "| bilirubin | bilirubin     | &lt;dbl&gt; | 149 |  6 | 3.9  | 1.4   | 1.2  | 0.3  | 0.7  | 1.0  | 1.5   | 8.0   |\n",
       "| alk_phosphate | alk_phosphate | &lt;int&gt; | 126 | 29 | 18.7 | 105.3 | 51.5 | 26.0 | 74.2 | 85.0 | 132.2 | 295.0 |\n",
       "| sgot | sgot          | &lt;int&gt; | 151 |  4 | 2.6  | 85.9  | 89.7 | 14.0 | 31.5 | 58.0 | 100.5 | 648.0 |\n",
       "| albumin | albumin       | &lt;dbl&gt; | 139 | 16 | 10.3 | 3.8   | 0.7  | 2.1  | 3.4  | 4.0  | 4.2   | 6.4   |\n",
       "| protime | protime       | &lt;int&gt; |  88 | 67 | 43.2 | 61.9  | 22.9 | 0.0  | 46.0 | 61.0 | 76.2  | 100.0 |\n",
       "\n",
       "\n",
       "$Categorical\n",
       ":   \n",
       "A data.frame: 14 × 9\n",
       "\n",
       "| <!--/--> | label &lt;chr&gt; | var_type &lt;chr&gt; | n &lt;int&gt; | missing_n &lt;int&gt; | missing_percent &lt;chr&gt; | levels_n &lt;int&gt; | levels &lt;chr&gt; | levels_count &lt;chr&gt; | levels_percent &lt;chr&gt; |\n",
       "|---|---|---|---|---|---|---|---|---|---|\n",
       "| sex | sex             | &lt;fct&gt; | 155 |  0 | 0.0 | 2 | \"female\", \"male\"             | 139, 16     | 90, 10              |\n",
       "| steroid | steroid         | &lt;fct&gt; | 154 |  1 | 0.6 | 2 | \"False\", \"True\", \"(Missing)\" | 76, 78, 1   | 49.03, 50.32,  0.65 |\n",
       "| antivirals | antivirals      | &lt;fct&gt; | 155 |  0 | 0.0 | 2 | \"False\", \"True\"              | 131, 24     | 85, 15              |\n",
       "| fatigue | fatigue         | &lt;fct&gt; | 154 |  1 | 0.6 | 2 | \"False\", \"True\", \"(Missing)\" | 54, 100, 1  | 34.84, 64.52,  0.65 |\n",
       "| malaise | malaise         | &lt;fct&gt; | 154 |  1 | 0.6 | 2 | \"False\", \"True\", \"(Missing)\" | 93, 61, 1   | 60.00, 39.35,  0.65 |\n",
       "| anorexia | anorexia        | &lt;fct&gt; | 154 |  1 | 0.6 | 2 | \"False\", \"True\", \"(Missing)\" | 122, 32, 1  | 78.71, 20.65,  0.65 |\n",
       "| liver_big | liver_big       | &lt;fct&gt; | 145 | 10 | 6.5 | 2 | \"False\", \"True\", \"(Missing)\" | 25, 120, 10 | 16.1, 77.4,  6.5    |\n",
       "| liver_firm | liver_firm      | &lt;fct&gt; | 144 | 11 | 7.1 | 2 | \"False\", \"True\", \"(Missing)\" | 84, 60, 11  | 54.2, 38.7,  7.1    |\n",
       "| spleen_palpable | spleen_palpable | &lt;fct&gt; | 150 |  5 | 3.2 | 2 | \"False\", \"True\", \"(Missing)\" | 120, 30, 5  | 77.4, 19.4,  3.2    |\n",
       "| spiders | spiders         | &lt;fct&gt; | 150 |  5 | 3.2 | 2 | \"False\", \"True\", \"(Missing)\" | 99, 51, 5   | 63.9, 32.9,  3.2    |\n",
       "| ascites | ascites         | &lt;fct&gt; | 150 |  5 | 3.2 | 2 | \"False\", \"True\", \"(Missing)\" | 130, 20, 5  | 83.9, 12.9,  3.2    |\n",
       "| varices | varices         | &lt;fct&gt; | 150 |  5 | 3.2 | 2 | \"False\", \"True\", \"(Missing)\" | 132, 18, 5  | 85.2, 11.6,  3.2    |\n",
       "| histology | histology       | &lt;fct&gt; | 155 |  0 | 0.0 | 2 | \"False\", \"True\"              | 85, 70      | 55, 45              |\n",
       "| class | class           | &lt;fct&gt; | 155 |  0 | 0.0 | 2 | \"die\", \"live\"                | 32, 123     | 21, 79              |\n",
       "\n",
       "\n",
       "\n",
       "\n"
      ],
      "text/plain": [
       "$Continuous\n",
       "                      label var_type   n missing_n missing_percent  mean   sd\n",
       "age                     age    <int> 155         0             0.0  41.2 12.6\n",
       "bilirubin         bilirubin    <dbl> 149         6             3.9   1.4  1.2\n",
       "alk_phosphate alk_phosphate    <int> 126        29            18.7 105.3 51.5\n",
       "sgot                   sgot    <int> 151         4             2.6  85.9 89.7\n",
       "albumin             albumin    <dbl> 139        16            10.3   3.8  0.7\n",
       "protime             protime    <int>  88        67            43.2  61.9 22.9\n",
       "               min quartile_25 median quartile_75   max\n",
       "age            7.0        32.0   39.0        50.0  78.0\n",
       "bilirubin      0.3         0.7    1.0         1.5   8.0\n",
       "alk_phosphate 26.0        74.2   85.0       132.2 295.0\n",
       "sgot          14.0        31.5   58.0       100.5 648.0\n",
       "albumin        2.1         3.4    4.0         4.2   6.4\n",
       "protime        0.0        46.0   61.0        76.2 100.0\n",
       "\n",
       "$Categorical\n",
       "                          label var_type   n missing_n missing_percent levels_n\n",
       "sex                         sex    <fct> 155         0             0.0        2\n",
       "steroid                 steroid    <fct> 154         1             0.6        2\n",
       "antivirals           antivirals    <fct> 155         0             0.0        2\n",
       "fatigue                 fatigue    <fct> 154         1             0.6        2\n",
       "malaise                 malaise    <fct> 154         1             0.6        2\n",
       "anorexia               anorexia    <fct> 154         1             0.6        2\n",
       "liver_big             liver_big    <fct> 145        10             6.5        2\n",
       "liver_firm           liver_firm    <fct> 144        11             7.1        2\n",
       "spleen_palpable spleen_palpable    <fct> 150         5             3.2        2\n",
       "spiders                 spiders    <fct> 150         5             3.2        2\n",
       "ascites                 ascites    <fct> 150         5             3.2        2\n",
       "varices                 varices    <fct> 150         5             3.2        2\n",
       "histology             histology    <fct> 155         0             0.0        2\n",
       "class                     class    <fct> 155         0             0.0        2\n",
       "                                      levels levels_count      levels_percent\n",
       "sex                         \"female\", \"male\"      139, 16              90, 10\n",
       "steroid         \"False\", \"True\", \"(Missing)\"    76, 78, 1 49.03, 50.32,  0.65\n",
       "antivirals                   \"False\", \"True\"      131, 24              85, 15\n",
       "fatigue         \"False\", \"True\", \"(Missing)\"   54, 100, 1 34.84, 64.52,  0.65\n",
       "malaise         \"False\", \"True\", \"(Missing)\"    93, 61, 1 60.00, 39.35,  0.65\n",
       "anorexia        \"False\", \"True\", \"(Missing)\"   122, 32, 1 78.71, 20.65,  0.65\n",
       "liver_big       \"False\", \"True\", \"(Missing)\"  25, 120, 10    16.1, 77.4,  6.5\n",
       "liver_firm      \"False\", \"True\", \"(Missing)\"   84, 60, 11    54.2, 38.7,  7.1\n",
       "spleen_palpable \"False\", \"True\", \"(Missing)\"   120, 30, 5    77.4, 19.4,  3.2\n",
       "spiders         \"False\", \"True\", \"(Missing)\"    99, 51, 5    63.9, 32.9,  3.2\n",
       "ascites         \"False\", \"True\", \"(Missing)\"   130, 20, 5    83.9, 12.9,  3.2\n",
       "varices         \"False\", \"True\", \"(Missing)\"   132, 18, 5    85.2, 11.6,  3.2\n",
       "histology                    \"False\", \"True\"       85, 70              55, 45\n",
       "class                          \"die\", \"live\"      32, 123              21, 79\n"
      ]
     },
     "metadata": {},
     "output_type": "display_data"
    }
   ],
   "source": [
    "ff_glimpse(hep)"
   ]
  },
  {
   "cell_type": "code",
   "execution_count": 7,
   "metadata": {
    "vscode": {
     "languageId": "r"
    }
   },
   "outputs": [],
   "source": [
    "TFcols <- fcols[-c(1, 14)]\n",
    "\n",
    "for (col in TFcols) {\n",
    "    hep[[col]] <- case_when(hep[[col]]==\"True\" ~ \"1\", hep[[col]]==\"False\" ~ \"0\", TRUE ~ NA)\n",
    "}\n",
    "\n",
    "hep$male <- ifelse(hep$sex==\"male\", \"1\", \"0\")\n",
    "hep$die <- ifelse(hep$class==\"die\", \"1\", \"0\")\n",
    "fcols[1] <- \"male\"\n",
    "fcols[14] <- \"die\"\n",
    "hep[fcols] <- hep[fcols] %>% lapply(factor)\n",
    "hep <- subset(hep, select=-c(sex, class))"
   ]
  },
  {
   "cell_type": "code",
   "execution_count": 35,
   "metadata": {
    "vscode": {
     "languageId": "r"
    }
   },
   "outputs": [
    {
     "data": {
      "text/html": [
       "<dl>\n",
       "\t<dt>$Continuous</dt>\n",
       "\t\t<dd><table class=\"dataframe\">\n",
       "<caption>A data.frame: 6 × 12</caption>\n",
       "<thead>\n",
       "\t<tr><th></th><th scope=col>label</th><th scope=col>var_type</th><th scope=col>n</th><th scope=col>missing_n</th><th scope=col>missing_percent</th><th scope=col>mean</th><th scope=col>sd</th><th scope=col>min</th><th scope=col>quartile_25</th><th scope=col>median</th><th scope=col>quartile_75</th><th scope=col>max</th></tr>\n",
       "\t<tr><th></th><th scope=col>&lt;chr&gt;</th><th scope=col>&lt;chr&gt;</th><th scope=col>&lt;int&gt;</th><th scope=col>&lt;int&gt;</th><th scope=col>&lt;chr&gt;</th><th scope=col>&lt;chr&gt;</th><th scope=col>&lt;chr&gt;</th><th scope=col>&lt;chr&gt;</th><th scope=col>&lt;chr&gt;</th><th scope=col>&lt;chr&gt;</th><th scope=col>&lt;chr&gt;</th><th scope=col>&lt;chr&gt;</th></tr>\n",
       "</thead>\n",
       "<tbody>\n",
       "\t<tr><th scope=row>age</th><td><span style=white-space:pre-wrap>age          </span></td><td>&lt;int&gt;</td><td>155</td><td> 0</td><td>0.0 </td><td>41.2 </td><td>12.6</td><td>7.0 </td><td>32.0</td><td>39.0</td><td>50.0 </td><td>78.0 </td></tr>\n",
       "\t<tr><th scope=row>bilirubin</th><td><span style=white-space:pre-wrap>bilirubin    </span></td><td>&lt;dbl&gt;</td><td>149</td><td> 6</td><td>3.9 </td><td><span style=white-space:pre-wrap>1.4  </span></td><td>1.2 </td><td>0.3 </td><td>0.7 </td><td>1.0 </td><td><span style=white-space:pre-wrap>1.5  </span></td><td><span style=white-space:pre-wrap>8.0  </span></td></tr>\n",
       "\t<tr><th scope=row>alk_phosphate</th><td>alk_phosphate</td><td>&lt;int&gt;</td><td>126</td><td>29</td><td>18.7</td><td>105.3</td><td>51.5</td><td>26.0</td><td>74.2</td><td>85.0</td><td>132.2</td><td>295.0</td></tr>\n",
       "\t<tr><th scope=row>sgot</th><td><span style=white-space:pre-wrap>sgot         </span></td><td>&lt;int&gt;</td><td>151</td><td> 4</td><td>2.6 </td><td>85.9 </td><td>89.7</td><td>14.0</td><td>31.5</td><td>58.0</td><td>100.5</td><td>648.0</td></tr>\n",
       "\t<tr><th scope=row>albumin</th><td><span style=white-space:pre-wrap>albumin      </span></td><td>&lt;dbl&gt;</td><td>139</td><td>16</td><td>10.3</td><td><span style=white-space:pre-wrap>3.8  </span></td><td>0.7 </td><td>2.1 </td><td>3.4 </td><td>4.0 </td><td><span style=white-space:pre-wrap>4.2  </span></td><td><span style=white-space:pre-wrap>6.4  </span></td></tr>\n",
       "\t<tr><th scope=row>protime</th><td><span style=white-space:pre-wrap>protime      </span></td><td>&lt;int&gt;</td><td> 88</td><td>67</td><td>43.2</td><td>61.9 </td><td>22.9</td><td>0.0 </td><td>46.0</td><td>61.0</td><td>76.2 </td><td>100.0</td></tr>\n",
       "</tbody>\n",
       "</table>\n",
       "</dd>\n",
       "\t<dt>$Categorical</dt>\n",
       "\t\t<dd><table class=\"dataframe\">\n",
       "<caption>A data.frame: 14 × 9</caption>\n",
       "<thead>\n",
       "\t<tr><th></th><th scope=col>label</th><th scope=col>var_type</th><th scope=col>n</th><th scope=col>missing_n</th><th scope=col>missing_percent</th><th scope=col>levels_n</th><th scope=col>levels</th><th scope=col>levels_count</th><th scope=col>levels_percent</th></tr>\n",
       "\t<tr><th></th><th scope=col>&lt;chr&gt;</th><th scope=col>&lt;chr&gt;</th><th scope=col>&lt;int&gt;</th><th scope=col>&lt;int&gt;</th><th scope=col>&lt;chr&gt;</th><th scope=col>&lt;int&gt;</th><th scope=col>&lt;chr&gt;</th><th scope=col>&lt;chr&gt;</th><th scope=col>&lt;chr&gt;</th></tr>\n",
       "</thead>\n",
       "<tbody>\n",
       "\t<tr><th scope=row>steroid</th><td><span style=white-space:pre-wrap>steroid        </span></td><td>&lt;fct&gt;</td><td>154</td><td> 1</td><td>0.6</td><td>2</td><td>\"0\", \"1\", \"(Missing)\"</td><td><span style=white-space:pre-wrap>76, 78, 1  </span></td><td><span style=white-space:pre-wrap>49.03, 50.32,  0.65</span></td></tr>\n",
       "\t<tr><th scope=row>antivirals</th><td><span style=white-space:pre-wrap>antivirals     </span></td><td>&lt;fct&gt;</td><td>155</td><td> 0</td><td>0.0</td><td>2</td><td><span style=white-space:pre-wrap>\"0\", \"1\"             </span></td><td><span style=white-space:pre-wrap>131, 24    </span></td><td><span style=white-space:pre-wrap>85, 15             </span></td></tr>\n",
       "\t<tr><th scope=row>fatigue</th><td><span style=white-space:pre-wrap>fatigue        </span></td><td>&lt;fct&gt;</td><td>154</td><td> 1</td><td>0.6</td><td>2</td><td>\"0\", \"1\", \"(Missing)\"</td><td>54, 100, 1 </td><td><span style=white-space:pre-wrap>34.84, 64.52,  0.65</span></td></tr>\n",
       "\t<tr><th scope=row>malaise</th><td><span style=white-space:pre-wrap>malaise        </span></td><td>&lt;fct&gt;</td><td>154</td><td> 1</td><td>0.6</td><td>2</td><td>\"0\", \"1\", \"(Missing)\"</td><td><span style=white-space:pre-wrap>93, 61, 1  </span></td><td><span style=white-space:pre-wrap>60.00, 39.35,  0.65</span></td></tr>\n",
       "\t<tr><th scope=row>anorexia</th><td><span style=white-space:pre-wrap>anorexia       </span></td><td>&lt;fct&gt;</td><td>154</td><td> 1</td><td>0.6</td><td>2</td><td>\"0\", \"1\", \"(Missing)\"</td><td>122, 32, 1 </td><td><span style=white-space:pre-wrap>78.71, 20.65,  0.65</span></td></tr>\n",
       "\t<tr><th scope=row>liver_big</th><td><span style=white-space:pre-wrap>liver_big      </span></td><td>&lt;fct&gt;</td><td>145</td><td>10</td><td>6.5</td><td>2</td><td>\"0\", \"1\", \"(Missing)\"</td><td>25, 120, 10</td><td><span style=white-space:pre-wrap>16.1, 77.4,  6.5   </span></td></tr>\n",
       "\t<tr><th scope=row>liver_firm</th><td><span style=white-space:pre-wrap>liver_firm     </span></td><td>&lt;fct&gt;</td><td>144</td><td>11</td><td>7.1</td><td>2</td><td>\"0\", \"1\", \"(Missing)\"</td><td>84, 60, 11 </td><td><span style=white-space:pre-wrap>54.2, 38.7,  7.1   </span></td></tr>\n",
       "\t<tr><th scope=row>spleen_palpable</th><td>spleen_palpable</td><td>&lt;fct&gt;</td><td>150</td><td> 5</td><td>3.2</td><td>2</td><td>\"0\", \"1\", \"(Missing)\"</td><td>120, 30, 5 </td><td><span style=white-space:pre-wrap>77.4, 19.4,  3.2   </span></td></tr>\n",
       "\t<tr><th scope=row>spiders</th><td><span style=white-space:pre-wrap>spiders        </span></td><td>&lt;fct&gt;</td><td>150</td><td> 5</td><td>3.2</td><td>2</td><td>\"0\", \"1\", \"(Missing)\"</td><td><span style=white-space:pre-wrap>99, 51, 5  </span></td><td><span style=white-space:pre-wrap>63.9, 32.9,  3.2   </span></td></tr>\n",
       "\t<tr><th scope=row>ascites</th><td><span style=white-space:pre-wrap>ascites        </span></td><td>&lt;fct&gt;</td><td>150</td><td> 5</td><td>3.2</td><td>2</td><td>\"0\", \"1\", \"(Missing)\"</td><td>130, 20, 5 </td><td><span style=white-space:pre-wrap>83.9, 12.9,  3.2   </span></td></tr>\n",
       "\t<tr><th scope=row>varices</th><td><span style=white-space:pre-wrap>varices        </span></td><td>&lt;fct&gt;</td><td>150</td><td> 5</td><td>3.2</td><td>2</td><td>\"0\", \"1\", \"(Missing)\"</td><td>132, 18, 5 </td><td><span style=white-space:pre-wrap>85.2, 11.6,  3.2   </span></td></tr>\n",
       "\t<tr><th scope=row>histology</th><td><span style=white-space:pre-wrap>histology      </span></td><td>&lt;fct&gt;</td><td>155</td><td> 0</td><td>0.0</td><td>2</td><td><span style=white-space:pre-wrap>\"0\", \"1\"             </span></td><td><span style=white-space:pre-wrap>85, 70     </span></td><td><span style=white-space:pre-wrap>55, 45             </span></td></tr>\n",
       "\t<tr><th scope=row>male</th><td><span style=white-space:pre-wrap>male           </span></td><td>&lt;fct&gt;</td><td>155</td><td> 0</td><td>0.0</td><td>2</td><td><span style=white-space:pre-wrap>\"0\", \"1\"             </span></td><td><span style=white-space:pre-wrap>139, 16    </span></td><td><span style=white-space:pre-wrap>90, 10             </span></td></tr>\n",
       "\t<tr><th scope=row>die</th><td><span style=white-space:pre-wrap>die            </span></td><td>&lt;fct&gt;</td><td>155</td><td> 0</td><td>0.0</td><td>2</td><td><span style=white-space:pre-wrap>\"0\", \"1\"             </span></td><td><span style=white-space:pre-wrap>123, 32    </span></td><td><span style=white-space:pre-wrap>79, 21             </span></td></tr>\n",
       "</tbody>\n",
       "</table>\n",
       "</dd>\n",
       "</dl>\n"
      ],
      "text/latex": [
       "\\begin{description}\n",
       "\\item[\\$Continuous] A data.frame: 6 × 12\n",
       "\\begin{tabular}{r|llllllllllll}\n",
       "  & label & var\\_type & n & missing\\_n & missing\\_percent & mean & sd & min & quartile\\_25 & median & quartile\\_75 & max\\\\\n",
       "  & <chr> & <chr> & <int> & <int> & <chr> & <chr> & <chr> & <chr> & <chr> & <chr> & <chr> & <chr>\\\\\n",
       "\\hline\n",
       "\tage & age           & <int> & 155 &  0 & 0.0  & 41.2  & 12.6 & 7.0  & 32.0 & 39.0 & 50.0  & 78.0 \\\\\n",
       "\tbilirubin & bilirubin     & <dbl> & 149 &  6 & 3.9  & 1.4   & 1.2  & 0.3  & 0.7  & 1.0  & 1.5   & 8.0  \\\\\n",
       "\talk\\_phosphate & alk\\_phosphate & <int> & 126 & 29 & 18.7 & 105.3 & 51.5 & 26.0 & 74.2 & 85.0 & 132.2 & 295.0\\\\\n",
       "\tsgot & sgot          & <int> & 151 &  4 & 2.6  & 85.9  & 89.7 & 14.0 & 31.5 & 58.0 & 100.5 & 648.0\\\\\n",
       "\talbumin & albumin       & <dbl> & 139 & 16 & 10.3 & 3.8   & 0.7  & 2.1  & 3.4  & 4.0  & 4.2   & 6.4  \\\\\n",
       "\tprotime & protime       & <int> &  88 & 67 & 43.2 & 61.9  & 22.9 & 0.0  & 46.0 & 61.0 & 76.2  & 100.0\\\\\n",
       "\\end{tabular}\n",
       "\n",
       "\\item[\\$Categorical] A data.frame: 14 × 9\n",
       "\\begin{tabular}{r|lllllllll}\n",
       "  & label & var\\_type & n & missing\\_n & missing\\_percent & levels\\_n & levels & levels\\_count & levels\\_percent\\\\\n",
       "  & <chr> & <chr> & <int> & <int> & <chr> & <int> & <chr> & <chr> & <chr>\\\\\n",
       "\\hline\n",
       "\tsteroid & steroid         & <fct> & 154 &  1 & 0.6 & 2 & \"0\", \"1\", \"(Missing)\" & 76, 78, 1   & 49.03, 50.32,  0.65\\\\\n",
       "\tantivirals & antivirals      & <fct> & 155 &  0 & 0.0 & 2 & \"0\", \"1\"              & 131, 24     & 85, 15             \\\\\n",
       "\tfatigue & fatigue         & <fct> & 154 &  1 & 0.6 & 2 & \"0\", \"1\", \"(Missing)\" & 54, 100, 1  & 34.84, 64.52,  0.65\\\\\n",
       "\tmalaise & malaise         & <fct> & 154 &  1 & 0.6 & 2 & \"0\", \"1\", \"(Missing)\" & 93, 61, 1   & 60.00, 39.35,  0.65\\\\\n",
       "\tanorexia & anorexia        & <fct> & 154 &  1 & 0.6 & 2 & \"0\", \"1\", \"(Missing)\" & 122, 32, 1  & 78.71, 20.65,  0.65\\\\\n",
       "\tliver\\_big & liver\\_big       & <fct> & 145 & 10 & 6.5 & 2 & \"0\", \"1\", \"(Missing)\" & 25, 120, 10 & 16.1, 77.4,  6.5   \\\\\n",
       "\tliver\\_firm & liver\\_firm      & <fct> & 144 & 11 & 7.1 & 2 & \"0\", \"1\", \"(Missing)\" & 84, 60, 11  & 54.2, 38.7,  7.1   \\\\\n",
       "\tspleen\\_palpable & spleen\\_palpable & <fct> & 150 &  5 & 3.2 & 2 & \"0\", \"1\", \"(Missing)\" & 120, 30, 5  & 77.4, 19.4,  3.2   \\\\\n",
       "\tspiders & spiders         & <fct> & 150 &  5 & 3.2 & 2 & \"0\", \"1\", \"(Missing)\" & 99, 51, 5   & 63.9, 32.9,  3.2   \\\\\n",
       "\tascites & ascites         & <fct> & 150 &  5 & 3.2 & 2 & \"0\", \"1\", \"(Missing)\" & 130, 20, 5  & 83.9, 12.9,  3.2   \\\\\n",
       "\tvarices & varices         & <fct> & 150 &  5 & 3.2 & 2 & \"0\", \"1\", \"(Missing)\" & 132, 18, 5  & 85.2, 11.6,  3.2   \\\\\n",
       "\thistology & histology       & <fct> & 155 &  0 & 0.0 & 2 & \"0\", \"1\"              & 85, 70      & 55, 45             \\\\\n",
       "\tmale & male            & <fct> & 155 &  0 & 0.0 & 2 & \"0\", \"1\"              & 139, 16     & 90, 10             \\\\\n",
       "\tdie & die             & <fct> & 155 &  0 & 0.0 & 2 & \"0\", \"1\"              & 123, 32     & 79, 21             \\\\\n",
       "\\end{tabular}\n",
       "\n",
       "\\end{description}\n"
      ],
      "text/markdown": [
       "$Continuous\n",
       ":   \n",
       "A data.frame: 6 × 12\n",
       "\n",
       "| <!--/--> | label &lt;chr&gt; | var_type &lt;chr&gt; | n &lt;int&gt; | missing_n &lt;int&gt; | missing_percent &lt;chr&gt; | mean &lt;chr&gt; | sd &lt;chr&gt; | min &lt;chr&gt; | quartile_25 &lt;chr&gt; | median &lt;chr&gt; | quartile_75 &lt;chr&gt; | max &lt;chr&gt; |\n",
       "|---|---|---|---|---|---|---|---|---|---|---|---|---|\n",
       "| age | age           | &lt;int&gt; | 155 |  0 | 0.0  | 41.2  | 12.6 | 7.0  | 32.0 | 39.0 | 50.0  | 78.0  |\n",
       "| bilirubin | bilirubin     | &lt;dbl&gt; | 149 |  6 | 3.9  | 1.4   | 1.2  | 0.3  | 0.7  | 1.0  | 1.5   | 8.0   |\n",
       "| alk_phosphate | alk_phosphate | &lt;int&gt; | 126 | 29 | 18.7 | 105.3 | 51.5 | 26.0 | 74.2 | 85.0 | 132.2 | 295.0 |\n",
       "| sgot | sgot          | &lt;int&gt; | 151 |  4 | 2.6  | 85.9  | 89.7 | 14.0 | 31.5 | 58.0 | 100.5 | 648.0 |\n",
       "| albumin | albumin       | &lt;dbl&gt; | 139 | 16 | 10.3 | 3.8   | 0.7  | 2.1  | 3.4  | 4.0  | 4.2   | 6.4   |\n",
       "| protime | protime       | &lt;int&gt; |  88 | 67 | 43.2 | 61.9  | 22.9 | 0.0  | 46.0 | 61.0 | 76.2  | 100.0 |\n",
       "\n",
       "\n",
       "$Categorical\n",
       ":   \n",
       "A data.frame: 14 × 9\n",
       "\n",
       "| <!--/--> | label &lt;chr&gt; | var_type &lt;chr&gt; | n &lt;int&gt; | missing_n &lt;int&gt; | missing_percent &lt;chr&gt; | levels_n &lt;int&gt; | levels &lt;chr&gt; | levels_count &lt;chr&gt; | levels_percent &lt;chr&gt; |\n",
       "|---|---|---|---|---|---|---|---|---|---|\n",
       "| steroid | steroid         | &lt;fct&gt; | 154 |  1 | 0.6 | 2 | \"0\", \"1\", \"(Missing)\" | 76, 78, 1   | 49.03, 50.32,  0.65 |\n",
       "| antivirals | antivirals      | &lt;fct&gt; | 155 |  0 | 0.0 | 2 | \"0\", \"1\"              | 131, 24     | 85, 15              |\n",
       "| fatigue | fatigue         | &lt;fct&gt; | 154 |  1 | 0.6 | 2 | \"0\", \"1\", \"(Missing)\" | 54, 100, 1  | 34.84, 64.52,  0.65 |\n",
       "| malaise | malaise         | &lt;fct&gt; | 154 |  1 | 0.6 | 2 | \"0\", \"1\", \"(Missing)\" | 93, 61, 1   | 60.00, 39.35,  0.65 |\n",
       "| anorexia | anorexia        | &lt;fct&gt; | 154 |  1 | 0.6 | 2 | \"0\", \"1\", \"(Missing)\" | 122, 32, 1  | 78.71, 20.65,  0.65 |\n",
       "| liver_big | liver_big       | &lt;fct&gt; | 145 | 10 | 6.5 | 2 | \"0\", \"1\", \"(Missing)\" | 25, 120, 10 | 16.1, 77.4,  6.5    |\n",
       "| liver_firm | liver_firm      | &lt;fct&gt; | 144 | 11 | 7.1 | 2 | \"0\", \"1\", \"(Missing)\" | 84, 60, 11  | 54.2, 38.7,  7.1    |\n",
       "| spleen_palpable | spleen_palpable | &lt;fct&gt; | 150 |  5 | 3.2 | 2 | \"0\", \"1\", \"(Missing)\" | 120, 30, 5  | 77.4, 19.4,  3.2    |\n",
       "| spiders | spiders         | &lt;fct&gt; | 150 |  5 | 3.2 | 2 | \"0\", \"1\", \"(Missing)\" | 99, 51, 5   | 63.9, 32.9,  3.2    |\n",
       "| ascites | ascites         | &lt;fct&gt; | 150 |  5 | 3.2 | 2 | \"0\", \"1\", \"(Missing)\" | 130, 20, 5  | 83.9, 12.9,  3.2    |\n",
       "| varices | varices         | &lt;fct&gt; | 150 |  5 | 3.2 | 2 | \"0\", \"1\", \"(Missing)\" | 132, 18, 5  | 85.2, 11.6,  3.2    |\n",
       "| histology | histology       | &lt;fct&gt; | 155 |  0 | 0.0 | 2 | \"0\", \"1\"              | 85, 70      | 55, 45              |\n",
       "| male | male            | &lt;fct&gt; | 155 |  0 | 0.0 | 2 | \"0\", \"1\"              | 139, 16     | 90, 10              |\n",
       "| die | die             | &lt;fct&gt; | 155 |  0 | 0.0 | 2 | \"0\", \"1\"              | 123, 32     | 79, 21              |\n",
       "\n",
       "\n",
       "\n",
       "\n"
      ],
      "text/plain": [
       "$Continuous\n",
       "                      label var_type   n missing_n missing_percent  mean   sd\n",
       "age                     age    <int> 155         0             0.0  41.2 12.6\n",
       "bilirubin         bilirubin    <dbl> 149         6             3.9   1.4  1.2\n",
       "alk_phosphate alk_phosphate    <int> 126        29            18.7 105.3 51.5\n",
       "sgot                   sgot    <int> 151         4             2.6  85.9 89.7\n",
       "albumin             albumin    <dbl> 139        16            10.3   3.8  0.7\n",
       "protime             protime    <int>  88        67            43.2  61.9 22.9\n",
       "               min quartile_25 median quartile_75   max\n",
       "age            7.0        32.0   39.0        50.0  78.0\n",
       "bilirubin      0.3         0.7    1.0         1.5   8.0\n",
       "alk_phosphate 26.0        74.2   85.0       132.2 295.0\n",
       "sgot          14.0        31.5   58.0       100.5 648.0\n",
       "albumin        2.1         3.4    4.0         4.2   6.4\n",
       "protime        0.0        46.0   61.0        76.2 100.0\n",
       "\n",
       "$Categorical\n",
       "                          label var_type   n missing_n missing_percent levels_n\n",
       "steroid                 steroid    <fct> 154         1             0.6        2\n",
       "antivirals           antivirals    <fct> 155         0             0.0        2\n",
       "fatigue                 fatigue    <fct> 154         1             0.6        2\n",
       "malaise                 malaise    <fct> 154         1             0.6        2\n",
       "anorexia               anorexia    <fct> 154         1             0.6        2\n",
       "liver_big             liver_big    <fct> 145        10             6.5        2\n",
       "liver_firm           liver_firm    <fct> 144        11             7.1        2\n",
       "spleen_palpable spleen_palpable    <fct> 150         5             3.2        2\n",
       "spiders                 spiders    <fct> 150         5             3.2        2\n",
       "ascites                 ascites    <fct> 150         5             3.2        2\n",
       "varices                 varices    <fct> 150         5             3.2        2\n",
       "histology             histology    <fct> 155         0             0.0        2\n",
       "male                       male    <fct> 155         0             0.0        2\n",
       "die                         die    <fct> 155         0             0.0        2\n",
       "                               levels levels_count      levels_percent\n",
       "steroid         \"0\", \"1\", \"(Missing)\"    76, 78, 1 49.03, 50.32,  0.65\n",
       "antivirals                   \"0\", \"1\"      131, 24              85, 15\n",
       "fatigue         \"0\", \"1\", \"(Missing)\"   54, 100, 1 34.84, 64.52,  0.65\n",
       "malaise         \"0\", \"1\", \"(Missing)\"    93, 61, 1 60.00, 39.35,  0.65\n",
       "anorexia        \"0\", \"1\", \"(Missing)\"   122, 32, 1 78.71, 20.65,  0.65\n",
       "liver_big       \"0\", \"1\", \"(Missing)\"  25, 120, 10    16.1, 77.4,  6.5\n",
       "liver_firm      \"0\", \"1\", \"(Missing)\"   84, 60, 11    54.2, 38.7,  7.1\n",
       "spleen_palpable \"0\", \"1\", \"(Missing)\"   120, 30, 5    77.4, 19.4,  3.2\n",
       "spiders         \"0\", \"1\", \"(Missing)\"    99, 51, 5    63.9, 32.9,  3.2\n",
       "ascites         \"0\", \"1\", \"(Missing)\"   130, 20, 5    83.9, 12.9,  3.2\n",
       "varices         \"0\", \"1\", \"(Missing)\"   132, 18, 5    85.2, 11.6,  3.2\n",
       "histology                    \"0\", \"1\"       85, 70              55, 45\n",
       "male                         \"0\", \"1\"      139, 16              90, 10\n",
       "die                          \"0\", \"1\"      123, 32              79, 21\n"
      ]
     },
     "metadata": {},
     "output_type": "display_data"
    }
   ],
   "source": [
    "ff_glimpse(hep)"
   ]
  },
  {
   "cell_type": "code",
   "execution_count": 37,
   "metadata": {
    "vscode": {
     "languageId": "r"
    }
   },
   "outputs": [
    {
     "data": {
      "image/png": "[encoded data removed]",
      "text/plain": [
       "Plot with title \"\""
      ]
     },
     "metadata": {
      "image/png": {
       "height": 720,
       "width": 720
      }
     },
     "output_type": "display_data"
    }
   ],
   "source": [
    "# corrm <- rcorr(as.matrix(na.omit(hep)))$r\n",
    "# options(repr.plot.width = 12, repr.plot.height = 12)\n",
    "# corrplot(corrm, tl.col=\"black\", method=\"shade\")"
   ]
  },
  {
   "cell_type": "code",
   "execution_count": 129,
   "metadata": {
    "vscode": {
     "languageId": "r"
    }
   },
   "outputs": [
    {
     "data": {
      "image/png": "[encoded data removed]",
      "text/plain": [
       "plot without title"
      ]
     },
     "metadata": {
      "image/png": {
       "height": 600,
       "width": 960
      }
     },
     "output_type": "display_data"
    }
   ],
   "source": [
    "options(repr.plot.width = 16, repr.plot.height = 10)\n",
    "\n",
    "miss_plot <- hep %>% missing_plot()\n",
    "\n",
    "miss_plot <- miss_plot +\n",
    "    theme(\n",
    "        plot.title = element_text(size = 30),         \n",
    "        axis.title = element_text(size = 22),         \n",
    "        axis.text.x = element_text(size = 18),        \n",
    "        axis.text.y = element_text(size = 18)) +\n",
    "    labs(title = \"Missing values map for Hepatitis dataset\")\n",
    " \n",
    "miss_plot"
   ]
  },
  {
   "cell_type": "code",
   "execution_count": 144,
   "metadata": {
    "vscode": {
     "languageId": "r"
    }
   },
   "outputs": [
    {
     "data": {
      "image/png": "[encoded data removed]",
      "text/plain": [
       "plot without title"
      ]
     },
     "metadata": {
      "image/png": {
       "height": 720,
       "width": 720
      }
     },
     "output_type": "display_data"
    }
   ],
   "source": [
    "options(repr.plot.width = 12, repr.plot.height = 12)\n",
    "hep_pattern <- md.pattern(hep, rotate.names=TRUE)"
   ]
  },
  {
   "cell_type": "code",
   "execution_count": 107,
   "metadata": {
    "vscode": {
     "languageId": "r"
    }
   },
   "outputs": [
    {
     "data": {
      "image/png": "[encoded data removed]",
      "text/plain": [
       "plot without title"
      ]
     },
     "metadata": {
      "image/png": {
       "height": 600,
       "width": 960
      }
     },
     "output_type": "display_data"
    }
   ],
   "source": [
    "options(repr.plot.width = 16, repr.plot.height = 10)\n",
    "\n",
    "ggplot(hep, aes(x=class)) +\n",
    "    geom_bar(fill=\"royalblue4\") +\n",
    "    ggtitle(\"class variable group count\") +\n",
    "    theme(\n",
    "        plot.title = element_text(size = 30),\n",
    "        axis.title = element_text(size = 22),         \n",
    "        axis.text.x = element_text(size = 18),        \n",
    "        axis.text.y = element_text(size = 18)\n",
    "        )"
   ]
  },
  {
   "cell_type": "code",
   "execution_count": 42,
   "metadata": {
    "vscode": {
     "languageId": "r"
    }
   },
   "outputs": [
    {
     "data": {
      "text/html": [
       "<table class=\"dataframe\">\n",
       "<caption>A data.frame: 19 × 2</caption>\n",
       "<thead>\n",
       "\t<tr><th scope=col>Missing dependence: bilirubin</th><th scope=col>p-value</th></tr>\n",
       "\t<tr><th scope=col>&lt;chr&gt;</th><th scope=col>&lt;chr&gt;</th></tr>\n",
       "</thead>\n",
       "<tbody>\n",
       "\t<tr><td>age            </td><td>0.42          </td></tr>\n",
       "\t<tr><td>steroid        </td><td>0.11          </td></tr>\n",
       "\t<tr><td>antivirals     </td><td>1             </td></tr>\n",
       "\t<tr><td>fatigue        </td><td>1             </td></tr>\n",
       "\t<tr><td>malaise        </td><td>0.65          </td></tr>\n",
       "\t<tr><td>anorexia       </td><td>1             </td></tr>\n",
       "\t<tr><td>liver_big      </td><td>0.54          </td></tr>\n",
       "\t<tr><td>liver_firm     </td><td>0.64          </td></tr>\n",
       "\t<tr><td>spleen_palpable</td><td>0.26          </td></tr>\n",
       "\t<tr><td>spiders        </td><td>0.34          </td></tr>\n",
       "\t<tr><td>ascites        </td><td>1             </td></tr>\n",
       "\t<tr><td>varices        </td><td>1             </td></tr>\n",
       "\t<tr><td>alk_phosphate  </td><td>no variability</td></tr>\n",
       "\t<tr><td>sgot           </td><td>0.61          </td></tr>\n",
       "\t<tr><td>albumin        </td><td>no variability</td></tr>\n",
       "\t<tr><td>protime        </td><td>no variability</td></tr>\n",
       "\t<tr><td>histology      </td><td>0.69          </td></tr>\n",
       "\t<tr><td>male           </td><td>1             </td></tr>\n",
       "\t<tr><td>die            </td><td>0.6           </td></tr>\n",
       "</tbody>\n",
       "</table>\n"
      ],
      "text/latex": [
       "A data.frame: 19 × 2\n",
       "\\begin{tabular}{ll}\n",
       " Missing dependence: bilirubin & p-value\\\\\n",
       " <chr> & <chr>\\\\\n",
       "\\hline\n",
       "\t age             & 0.42          \\\\\n",
       "\t steroid         & 0.11          \\\\\n",
       "\t antivirals      & 1             \\\\\n",
       "\t fatigue         & 1             \\\\\n",
       "\t malaise         & 0.65          \\\\\n",
       "\t anorexia        & 1             \\\\\n",
       "\t liver\\_big       & 0.54          \\\\\n",
       "\t liver\\_firm      & 0.64          \\\\\n",
       "\t spleen\\_palpable & 0.26          \\\\\n",
       "\t spiders         & 0.34          \\\\\n",
       "\t ascites         & 1             \\\\\n",
       "\t varices         & 1             \\\\\n",
       "\t alk\\_phosphate   & no variability\\\\\n",
       "\t sgot            & 0.61          \\\\\n",
       "\t albumin         & no variability\\\\\n",
       "\t protime         & no variability\\\\\n",
       "\t histology       & 0.69          \\\\\n",
       "\t male            & 1             \\\\\n",
       "\t die             & 0.6           \\\\\n",
       "\\end{tabular}\n"
      ],
      "text/markdown": [
       "\n",
       "A data.frame: 19 × 2\n",
       "\n",
       "| Missing dependence: bilirubin &lt;chr&gt; | p-value &lt;chr&gt; |\n",
       "|---|---|\n",
       "| age             | 0.42           |\n",
       "| steroid         | 0.11           |\n",
       "| antivirals      | 1              |\n",
       "| fatigue         | 1              |\n",
       "| malaise         | 0.65           |\n",
       "| anorexia        | 1              |\n",
       "| liver_big       | 0.54           |\n",
       "| liver_firm      | 0.64           |\n",
       "| spleen_palpable | 0.26           |\n",
       "| spiders         | 0.34           |\n",
       "| ascites         | 1              |\n",
       "| varices         | 1              |\n",
       "| alk_phosphate   | no variability |\n",
       "| sgot            | 0.61           |\n",
       "| albumin         | no variability |\n",
       "| protime         | no variability |\n",
       "| histology       | 0.69           |\n",
       "| male            | 1              |\n",
       "| die             | 0.6            |\n",
       "\n"
      ],
      "text/plain": [
       "   Missing dependence: bilirubin p-value       \n",
       "1  age                           0.42          \n",
       "2  steroid                       0.11          \n",
       "3  antivirals                    1             \n",
       "4  fatigue                       1             \n",
       "5  malaise                       0.65          \n",
       "6  anorexia                      1             \n",
       "7  liver_big                     0.54          \n",
       "8  liver_firm                    0.64          \n",
       "9  spleen_palpable               0.26          \n",
       "10 spiders                       0.34          \n",
       "11 ascites                       1             \n",
       "12 varices                       1             \n",
       "13 alk_phosphate                 no variability\n",
       "14 sgot                          0.61          \n",
       "15 albumin                       no variability\n",
       "16 protime                       no variability\n",
       "17 histology                     0.69          \n",
       "18 male                          1             \n",
       "19 die                           0.6           "
      ]
     },
     "metadata": {},
     "output_type": "display_data"
    }
   ],
   "source": [
    "dependent <- \"bilirubin\"\n",
    "explanatory <- setdiff(colnames(hep), dependent)\n",
    "missMAR(hep, dependent, explanatory)"
   ]
  },
  {
   "cell_type": "code",
   "execution_count": 43,
   "metadata": {
    "vscode": {
     "languageId": "r"
    }
   },
   "outputs": [
    {
     "data": {
      "text/html": [
       "<table class=\"dataframe\">\n",
       "<caption>A data.frame: 19 × 2</caption>\n",
       "<thead>\n",
       "\t<tr><th scope=col>Missing dependence: alk_phosphate</th><th scope=col>p-value</th></tr>\n",
       "\t<tr><th scope=col>&lt;chr&gt;</th><th scope=col>&lt;chr&gt;</th></tr>\n",
       "</thead>\n",
       "<tbody>\n",
       "\t<tr><td>age            </td><td>0.74</td></tr>\n",
       "\t<tr><td>steroid        </td><td>0.68</td></tr>\n",
       "\t<tr><td>antivirals     </td><td>0.05</td></tr>\n",
       "\t<tr><td>fatigue        </td><td>0.66</td></tr>\n",
       "\t<tr><td>malaise        </td><td>1   </td></tr>\n",
       "\t<tr><td>anorexia       </td><td>0.04</td></tr>\n",
       "\t<tr><td>liver_big      </td><td>0.25</td></tr>\n",
       "\t<tr><td>liver_firm     </td><td>0.02</td></tr>\n",
       "\t<tr><td>spleen_palpable</td><td>1   </td></tr>\n",
       "\t<tr><td>spiders        </td><td>0.51</td></tr>\n",
       "\t<tr><td>ascites        </td><td>1   </td></tr>\n",
       "\t<tr><td>varices        </td><td>1   </td></tr>\n",
       "\t<tr><td>bilirubin      </td><td>0.31</td></tr>\n",
       "\t<tr><td>sgot           </td><td>0.5 </td></tr>\n",
       "\t<tr><td>albumin        </td><td>0.39</td></tr>\n",
       "\t<tr><td>protime        </td><td>0.45</td></tr>\n",
       "\t<tr><td>histology      </td><td>0.3 </td></tr>\n",
       "\t<tr><td>male           </td><td>0.04</td></tr>\n",
       "\t<tr><td>die            </td><td>0.32</td></tr>\n",
       "</tbody>\n",
       "</table>\n"
      ],
      "text/latex": [
       "A data.frame: 19 × 2\n",
       "\\begin{tabular}{ll}\n",
       " Missing dependence: alk\\_phosphate & p-value\\\\\n",
       " <chr> & <chr>\\\\\n",
       "\\hline\n",
       "\t age             & 0.74\\\\\n",
       "\t steroid         & 0.68\\\\\n",
       "\t antivirals      & 0.05\\\\\n",
       "\t fatigue         & 0.66\\\\\n",
       "\t malaise         & 1   \\\\\n",
       "\t anorexia        & 0.04\\\\\n",
       "\t liver\\_big       & 0.25\\\\\n",
       "\t liver\\_firm      & 0.02\\\\\n",
       "\t spleen\\_palpable & 1   \\\\\n",
       "\t spiders         & 0.51\\\\\n",
       "\t ascites         & 1   \\\\\n",
       "\t varices         & 1   \\\\\n",
       "\t bilirubin       & 0.31\\\\\n",
       "\t sgot            & 0.5 \\\\\n",
       "\t albumin         & 0.39\\\\\n",
       "\t protime         & 0.45\\\\\n",
       "\t histology       & 0.3 \\\\\n",
       "\t male            & 0.04\\\\\n",
       "\t die             & 0.32\\\\\n",
       "\\end{tabular}\n"
      ],
      "text/markdown": [
       "\n",
       "A data.frame: 19 × 2\n",
       "\n",
       "| Missing dependence: alk_phosphate &lt;chr&gt; | p-value &lt;chr&gt; |\n",
       "|---|---|\n",
       "| age             | 0.74 |\n",
       "| steroid         | 0.68 |\n",
       "| antivirals      | 0.05 |\n",
       "| fatigue         | 0.66 |\n",
       "| malaise         | 1    |\n",
       "| anorexia        | 0.04 |\n",
       "| liver_big       | 0.25 |\n",
       "| liver_firm      | 0.02 |\n",
       "| spleen_palpable | 1    |\n",
       "| spiders         | 0.51 |\n",
       "| ascites         | 1    |\n",
       "| varices         | 1    |\n",
       "| bilirubin       | 0.31 |\n",
       "| sgot            | 0.5  |\n",
       "| albumin         | 0.39 |\n",
       "| protime         | 0.45 |\n",
       "| histology       | 0.3  |\n",
       "| male            | 0.04 |\n",
       "| die             | 0.32 |\n",
       "\n"
      ],
      "text/plain": [
       "   Missing dependence: alk_phosphate p-value\n",
       "1  age                               0.74   \n",
       "2  steroid                           0.68   \n",
       "3  antivirals                        0.05   \n",
       "4  fatigue                           0.66   \n",
       "5  malaise                           1      \n",
       "6  anorexia                          0.04   \n",
       "7  liver_big                         0.25   \n",
       "8  liver_firm                        0.02   \n",
       "9  spleen_palpable                   1      \n",
       "10 spiders                           0.51   \n",
       "11 ascites                           1      \n",
       "12 varices                           1      \n",
       "13 bilirubin                         0.31   \n",
       "14 sgot                              0.5    \n",
       "15 albumin                           0.39   \n",
       "16 protime                           0.45   \n",
       "17 histology                         0.3    \n",
       "18 male                              0.04   \n",
       "19 die                               0.32   "
      ]
     },
     "metadata": {},
     "output_type": "display_data"
    }
   ],
   "source": [
    "dependent <- \"alk_phosphate\"\n",
    "explanatory <- setdiff(colnames(hep), dependent)\n",
    "missMAR(hep, dependent, explanatory)"
   ]
  },
  {
   "cell_type": "code",
   "execution_count": 44,
   "metadata": {
    "vscode": {
     "languageId": "r"
    }
   },
   "outputs": [
    {
     "data": {
      "text/html": [
       "<table class=\"dataframe\">\n",
       "<caption>A data.frame: 19 × 2</caption>\n",
       "<thead>\n",
       "\t<tr><th scope=col>Missing dependence: sgot</th><th scope=col>p-value</th></tr>\n",
       "\t<tr><th scope=col>&lt;chr&gt;</th><th scope=col>&lt;chr&gt;</th></tr>\n",
       "</thead>\n",
       "<tbody>\n",
       "\t<tr><td>age            </td><td>0.81          </td></tr>\n",
       "\t<tr><td>steroid        </td><td>0.36          </td></tr>\n",
       "\t<tr><td>antivirals     </td><td>1             </td></tr>\n",
       "\t<tr><td>fatigue        </td><td>1             </td></tr>\n",
       "\t<tr><td>malaise        </td><td>1             </td></tr>\n",
       "\t<tr><td>anorexia       </td><td>0.51          </td></tr>\n",
       "\t<tr><td>liver_big      </td><td>1             </td></tr>\n",
       "\t<tr><td>liver_firm     </td><td>0.51          </td></tr>\n",
       "\t<tr><td>spleen_palpable</td><td>0.49          </td></tr>\n",
       "\t<tr><td>spiders        </td><td>0.27          </td></tr>\n",
       "\t<tr><td>ascites        </td><td>1             </td></tr>\n",
       "\t<tr><td>varices        </td><td>1             </td></tr>\n",
       "\t<tr><td>bilirubin      </td><td>1             </td></tr>\n",
       "\t<tr><td>alk_phosphate  </td><td>no variability</td></tr>\n",
       "\t<tr><td>albumin        </td><td>no variability</td></tr>\n",
       "\t<tr><td>protime        </td><td>no variability</td></tr>\n",
       "\t<tr><td>histology      </td><td>0.63          </td></tr>\n",
       "\t<tr><td>male           </td><td>1             </td></tr>\n",
       "\t<tr><td>die            </td><td>0.19          </td></tr>\n",
       "</tbody>\n",
       "</table>\n"
      ],
      "text/latex": [
       "A data.frame: 19 × 2\n",
       "\\begin{tabular}{ll}\n",
       " Missing dependence: sgot & p-value\\\\\n",
       " <chr> & <chr>\\\\\n",
       "\\hline\n",
       "\t age             & 0.81          \\\\\n",
       "\t steroid         & 0.36          \\\\\n",
       "\t antivirals      & 1             \\\\\n",
       "\t fatigue         & 1             \\\\\n",
       "\t malaise         & 1             \\\\\n",
       "\t anorexia        & 0.51          \\\\\n",
       "\t liver\\_big       & 1             \\\\\n",
       "\t liver\\_firm      & 0.51          \\\\\n",
       "\t spleen\\_palpable & 0.49          \\\\\n",
       "\t spiders         & 0.27          \\\\\n",
       "\t ascites         & 1             \\\\\n",
       "\t varices         & 1             \\\\\n",
       "\t bilirubin       & 1             \\\\\n",
       "\t alk\\_phosphate   & no variability\\\\\n",
       "\t albumin         & no variability\\\\\n",
       "\t protime         & no variability\\\\\n",
       "\t histology       & 0.63          \\\\\n",
       "\t male            & 1             \\\\\n",
       "\t die             & 0.19          \\\\\n",
       "\\end{tabular}\n"
      ],
      "text/markdown": [
       "\n",
       "A data.frame: 19 × 2\n",
       "\n",
       "| Missing dependence: sgot &lt;chr&gt; | p-value &lt;chr&gt; |\n",
       "|---|---|\n",
       "| age             | 0.81           |\n",
       "| steroid         | 0.36           |\n",
       "| antivirals      | 1              |\n",
       "| fatigue         | 1              |\n",
       "| malaise         | 1              |\n",
       "| anorexia        | 0.51           |\n",
       "| liver_big       | 1              |\n",
       "| liver_firm      | 0.51           |\n",
       "| spleen_palpable | 0.49           |\n",
       "| spiders         | 0.27           |\n",
       "| ascites         | 1              |\n",
       "| varices         | 1              |\n",
       "| bilirubin       | 1              |\n",
       "| alk_phosphate   | no variability |\n",
       "| albumin         | no variability |\n",
       "| protime         | no variability |\n",
       "| histology       | 0.63           |\n",
       "| male            | 1              |\n",
       "| die             | 0.19           |\n",
       "\n"
      ],
      "text/plain": [
       "   Missing dependence: sgot p-value       \n",
       "1  age                      0.81          \n",
       "2  steroid                  0.36          \n",
       "3  antivirals               1             \n",
       "4  fatigue                  1             \n",
       "5  malaise                  1             \n",
       "6  anorexia                 0.51          \n",
       "7  liver_big                1             \n",
       "8  liver_firm               0.51          \n",
       "9  spleen_palpable          0.49          \n",
       "10 spiders                  0.27          \n",
       "11 ascites                  1             \n",
       "12 varices                  1             \n",
       "13 bilirubin                1             \n",
       "14 alk_phosphate            no variability\n",
       "15 albumin                  no variability\n",
       "16 protime                  no variability\n",
       "17 histology                0.63          \n",
       "18 male                     1             \n",
       "19 die                      0.19          "
      ]
     },
     "metadata": {},
     "output_type": "display_data"
    }
   ],
   "source": [
    "dependent <- \"sgot\"\n",
    "explanatory <- setdiff(colnames(hep), dependent)\n",
    "missMAR(hep, dependent, explanatory)"
   ]
  },
  {
   "cell_type": "code",
   "execution_count": 45,
   "metadata": {
    "vscode": {
     "languageId": "r"
    }
   },
   "outputs": [
    {
     "data": {
      "text/html": [
       "<table class=\"dataframe\">\n",
       "<caption>A data.frame: 19 × 2</caption>\n",
       "<thead>\n",
       "\t<tr><th scope=col>Missing dependence: albumin</th><th scope=col>p-value</th></tr>\n",
       "\t<tr><th scope=col>&lt;chr&gt;</th><th scope=col>&lt;chr&gt;</th></tr>\n",
       "</thead>\n",
       "<tbody>\n",
       "\t<tr><td>age            </td><td>0.28</td></tr>\n",
       "\t<tr><td>steroid        </td><td>0.12</td></tr>\n",
       "\t<tr><td>antivirals     </td><td>0.47</td></tr>\n",
       "\t<tr><td>fatigue        </td><td>1   </td></tr>\n",
       "\t<tr><td>malaise        </td><td>0.59</td></tr>\n",
       "\t<tr><td>anorexia       </td><td>1   </td></tr>\n",
       "\t<tr><td>liver_big      </td><td>1   </td></tr>\n",
       "\t<tr><td>liver_firm     </td><td>0.07</td></tr>\n",
       "\t<tr><td>spleen_palpable</td><td>0.18</td></tr>\n",
       "\t<tr><td>spiders        </td><td>0.77</td></tr>\n",
       "\t<tr><td>ascites        </td><td>0.22</td></tr>\n",
       "\t<tr><td>varices        </td><td>1   </td></tr>\n",
       "\t<tr><td>bilirubin      </td><td>0.74</td></tr>\n",
       "\t<tr><td>alk_phosphate  </td><td>0.84</td></tr>\n",
       "\t<tr><td>sgot           </td><td>0.19</td></tr>\n",
       "\t<tr><td>protime        </td><td>0.7 </td></tr>\n",
       "\t<tr><td>histology      </td><td>1   </td></tr>\n",
       "\t<tr><td>male           </td><td>0.67</td></tr>\n",
       "\t<tr><td>die            </td><td>0.33</td></tr>\n",
       "</tbody>\n",
       "</table>\n"
      ],
      "text/latex": [
       "A data.frame: 19 × 2\n",
       "\\begin{tabular}{ll}\n",
       " Missing dependence: albumin & p-value\\\\\n",
       " <chr> & <chr>\\\\\n",
       "\\hline\n",
       "\t age             & 0.28\\\\\n",
       "\t steroid         & 0.12\\\\\n",
       "\t antivirals      & 0.47\\\\\n",
       "\t fatigue         & 1   \\\\\n",
       "\t malaise         & 0.59\\\\\n",
       "\t anorexia        & 1   \\\\\n",
       "\t liver\\_big       & 1   \\\\\n",
       "\t liver\\_firm      & 0.07\\\\\n",
       "\t spleen\\_palpable & 0.18\\\\\n",
       "\t spiders         & 0.77\\\\\n",
       "\t ascites         & 0.22\\\\\n",
       "\t varices         & 1   \\\\\n",
       "\t bilirubin       & 0.74\\\\\n",
       "\t alk\\_phosphate   & 0.84\\\\\n",
       "\t sgot            & 0.19\\\\\n",
       "\t protime         & 0.7 \\\\\n",
       "\t histology       & 1   \\\\\n",
       "\t male            & 0.67\\\\\n",
       "\t die             & 0.33\\\\\n",
       "\\end{tabular}\n"
      ],
      "text/markdown": [
       "\n",
       "A data.frame: 19 × 2\n",
       "\n",
       "| Missing dependence: albumin &lt;chr&gt; | p-value &lt;chr&gt; |\n",
       "|---|---|\n",
       "| age             | 0.28 |\n",
       "| steroid         | 0.12 |\n",
       "| antivirals      | 0.47 |\n",
       "| fatigue         | 1    |\n",
       "| malaise         | 0.59 |\n",
       "| anorexia        | 1    |\n",
       "| liver_big       | 1    |\n",
       "| liver_firm      | 0.07 |\n",
       "| spleen_palpable | 0.18 |\n",
       "| spiders         | 0.77 |\n",
       "| ascites         | 0.22 |\n",
       "| varices         | 1    |\n",
       "| bilirubin       | 0.74 |\n",
       "| alk_phosphate   | 0.84 |\n",
       "| sgot            | 0.19 |\n",
       "| protime         | 0.7  |\n",
       "| histology       | 1    |\n",
       "| male            | 0.67 |\n",
       "| die             | 0.33 |\n",
       "\n"
      ],
      "text/plain": [
       "   Missing dependence: albumin p-value\n",
       "1  age                         0.28   \n",
       "2  steroid                     0.12   \n",
       "3  antivirals                  0.47   \n",
       "4  fatigue                     1      \n",
       "5  malaise                     0.59   \n",
       "6  anorexia                    1      \n",
       "7  liver_big                   1      \n",
       "8  liver_firm                  0.07   \n",
       "9  spleen_palpable             0.18   \n",
       "10 spiders                     0.77   \n",
       "11 ascites                     0.22   \n",
       "12 varices                     1      \n",
       "13 bilirubin                   0.74   \n",
       "14 alk_phosphate               0.84   \n",
       "15 sgot                        0.19   \n",
       "16 protime                     0.7    \n",
       "17 histology                   1      \n",
       "18 male                        0.67   \n",
       "19 die                         0.33   "
      ]
     },
     "metadata": {},
     "output_type": "display_data"
    }
   ],
   "source": [
    "dependent <- \"albumin\"\n",
    "explanatory <- setdiff(colnames(hep), dependent)\n",
    "missMAR(hep, dependent, explanatory)"
   ]
  },
  {
   "cell_type": "code",
   "execution_count": 46,
   "metadata": {
    "vscode": {
     "languageId": "r"
    }
   },
   "outputs": [
    {
     "data": {
      "text/html": [
       "<table class=\"dataframe\">\n",
       "<caption>A data.frame: 19 × 2</caption>\n",
       "<thead>\n",
       "\t<tr><th scope=col>Missing dependence: protime</th><th scope=col>p-value</th></tr>\n",
       "\t<tr><th scope=col>&lt;chr&gt;</th><th scope=col>&lt;chr&gt;</th></tr>\n",
       "</thead>\n",
       "<tbody>\n",
       "\t<tr><td>age            </td><td>0.78</td></tr>\n",
       "\t<tr><td>steroid        </td><td>0.87</td></tr>\n",
       "\t<tr><td>antivirals     </td><td>0   </td></tr>\n",
       "\t<tr><td>fatigue        </td><td>0.61</td></tr>\n",
       "\t<tr><td>malaise        </td><td>0.51</td></tr>\n",
       "\t<tr><td>anorexia       </td><td>0.42</td></tr>\n",
       "\t<tr><td>liver_big      </td><td>0.5 </td></tr>\n",
       "\t<tr><td>liver_firm     </td><td>0.17</td></tr>\n",
       "\t<tr><td>spleen_palpable</td><td>0.84</td></tr>\n",
       "\t<tr><td>spiders        </td><td>0.6 </td></tr>\n",
       "\t<tr><td>ascites        </td><td>0.14</td></tr>\n",
       "\t<tr><td>varices        </td><td>0.21</td></tr>\n",
       "\t<tr><td>bilirubin      </td><td>0.38</td></tr>\n",
       "\t<tr><td>alk_phosphate  </td><td>0.89</td></tr>\n",
       "\t<tr><td>sgot           </td><td>0.61</td></tr>\n",
       "\t<tr><td>albumin        </td><td>0.94</td></tr>\n",
       "\t<tr><td>histology      </td><td>0.63</td></tr>\n",
       "\t<tr><td>male           </td><td>0.43</td></tr>\n",
       "\t<tr><td>die            </td><td>1   </td></tr>\n",
       "</tbody>\n",
       "</table>\n"
      ],
      "text/latex": [
       "A data.frame: 19 × 2\n",
       "\\begin{tabular}{ll}\n",
       " Missing dependence: protime & p-value\\\\\n",
       " <chr> & <chr>\\\\\n",
       "\\hline\n",
       "\t age             & 0.78\\\\\n",
       "\t steroid         & 0.87\\\\\n",
       "\t antivirals      & 0   \\\\\n",
       "\t fatigue         & 0.61\\\\\n",
       "\t malaise         & 0.51\\\\\n",
       "\t anorexia        & 0.42\\\\\n",
       "\t liver\\_big       & 0.5 \\\\\n",
       "\t liver\\_firm      & 0.17\\\\\n",
       "\t spleen\\_palpable & 0.84\\\\\n",
       "\t spiders         & 0.6 \\\\\n",
       "\t ascites         & 0.14\\\\\n",
       "\t varices         & 0.21\\\\\n",
       "\t bilirubin       & 0.38\\\\\n",
       "\t alk\\_phosphate   & 0.89\\\\\n",
       "\t sgot            & 0.61\\\\\n",
       "\t albumin         & 0.94\\\\\n",
       "\t histology       & 0.63\\\\\n",
       "\t male            & 0.43\\\\\n",
       "\t die             & 1   \\\\\n",
       "\\end{tabular}\n"
      ],
      "text/markdown": [
       "\n",
       "A data.frame: 19 × 2\n",
       "\n",
       "| Missing dependence: protime &lt;chr&gt; | p-value &lt;chr&gt; |\n",
       "|---|---|\n",
       "| age             | 0.78 |\n",
       "| steroid         | 0.87 |\n",
       "| antivirals      | 0    |\n",
       "| fatigue         | 0.61 |\n",
       "| malaise         | 0.51 |\n",
       "| anorexia        | 0.42 |\n",
       "| liver_big       | 0.5  |\n",
       "| liver_firm      | 0.17 |\n",
       "| spleen_palpable | 0.84 |\n",
       "| spiders         | 0.6  |\n",
       "| ascites         | 0.14 |\n",
       "| varices         | 0.21 |\n",
       "| bilirubin       | 0.38 |\n",
       "| alk_phosphate   | 0.89 |\n",
       "| sgot            | 0.61 |\n",
       "| albumin         | 0.94 |\n",
       "| histology       | 0.63 |\n",
       "| male            | 0.43 |\n",
       "| die             | 1    |\n",
       "\n"
      ],
      "text/plain": [
       "   Missing dependence: protime p-value\n",
       "1  age                         0.78   \n",
       "2  steroid                     0.87   \n",
       "3  antivirals                  0      \n",
       "4  fatigue                     0.61   \n",
       "5  malaise                     0.51   \n",
       "6  anorexia                    0.42   \n",
       "7  liver_big                   0.5    \n",
       "8  liver_firm                  0.17   \n",
       "9  spleen_palpable             0.84   \n",
       "10 spiders                     0.6    \n",
       "11 ascites                     0.14   \n",
       "12 varices                     0.21   \n",
       "13 bilirubin                   0.38   \n",
       "14 alk_phosphate               0.89   \n",
       "15 sgot                        0.61   \n",
       "16 albumin                     0.94   \n",
       "17 histology                   0.63   \n",
       "18 male                        0.43   \n",
       "19 die                         1      "
      ]
     },
     "metadata": {},
     "output_type": "display_data"
    }
   ],
   "source": [
    "dependent <- \"protime\"\n",
    "explanatory <- setdiff(colnames(hep), dependent)\n",
    "missMAR(hep, dependent, explanatory)"
   ]
  },
  {
   "cell_type": "code",
   "execution_count": 47,
   "metadata": {
    "vscode": {
     "languageId": "r"
    }
   },
   "outputs": [
    {
     "data": {
      "text/html": [
       "<table class=\"dataframe\">\n",
       "<caption>A data.frame: 19 × 2</caption>\n",
       "<thead>\n",
       "\t<tr><th scope=col>Missing dependence: steroid</th><th scope=col>p-value</th></tr>\n",
       "\t<tr><th scope=col>&lt;chr&gt;</th><th scope=col>&lt;chr&gt;</th></tr>\n",
       "</thead>\n",
       "<tbody>\n",
       "\t<tr><td>age            </td><td>0.5 </td></tr>\n",
       "\t<tr><td>antivirals     </td><td>0.15</td></tr>\n",
       "\t<tr><td>fatigue        </td><td>0.35</td></tr>\n",
       "\t<tr><td>malaise        </td><td>1   </td></tr>\n",
       "\t<tr><td>anorexia       </td><td>1   </td></tr>\n",
       "\t<tr><td>liver_big      </td><td>1   </td></tr>\n",
       "\t<tr><td>liver_firm     </td><td>1   </td></tr>\n",
       "\t<tr><td>spleen_palpable</td><td>1   </td></tr>\n",
       "\t<tr><td>spiders        </td><td>1   </td></tr>\n",
       "\t<tr><td>ascites        </td><td>1   </td></tr>\n",
       "\t<tr><td>varices        </td><td>1   </td></tr>\n",
       "\t<tr><td>bilirubin      </td><td>0.81</td></tr>\n",
       "\t<tr><td>alk_phosphate  </td><td>0.7 </td></tr>\n",
       "\t<tr><td>sgot           </td><td>0.56</td></tr>\n",
       "\t<tr><td>albumin        </td><td>1   </td></tr>\n",
       "\t<tr><td>protime        </td><td>0.26</td></tr>\n",
       "\t<tr><td>histology      </td><td>1   </td></tr>\n",
       "\t<tr><td>male           </td><td>1   </td></tr>\n",
       "\t<tr><td>die            </td><td>1   </td></tr>\n",
       "</tbody>\n",
       "</table>\n"
      ],
      "text/latex": [
       "A data.frame: 19 × 2\n",
       "\\begin{tabular}{ll}\n",
       " Missing dependence: steroid & p-value\\\\\n",
       " <chr> & <chr>\\\\\n",
       "\\hline\n",
       "\t age             & 0.5 \\\\\n",
       "\t antivirals      & 0.15\\\\\n",
       "\t fatigue         & 0.35\\\\\n",
       "\t malaise         & 1   \\\\\n",
       "\t anorexia        & 1   \\\\\n",
       "\t liver\\_big       & 1   \\\\\n",
       "\t liver\\_firm      & 1   \\\\\n",
       "\t spleen\\_palpable & 1   \\\\\n",
       "\t spiders         & 1   \\\\\n",
       "\t ascites         & 1   \\\\\n",
       "\t varices         & 1   \\\\\n",
       "\t bilirubin       & 0.81\\\\\n",
       "\t alk\\_phosphate   & 0.7 \\\\\n",
       "\t sgot            & 0.56\\\\\n",
       "\t albumin         & 1   \\\\\n",
       "\t protime         & 0.26\\\\\n",
       "\t histology       & 1   \\\\\n",
       "\t male            & 1   \\\\\n",
       "\t die             & 1   \\\\\n",
       "\\end{tabular}\n"
      ],
      "text/markdown": [
       "\n",
       "A data.frame: 19 × 2\n",
       "\n",
       "| Missing dependence: steroid &lt;chr&gt; | p-value &lt;chr&gt; |\n",
       "|---|---|\n",
       "| age             | 0.5  |\n",
       "| antivirals      | 0.15 |\n",
       "| fatigue         | 0.35 |\n",
       "| malaise         | 1    |\n",
       "| anorexia        | 1    |\n",
       "| liver_big       | 1    |\n",
       "| liver_firm      | 1    |\n",
       "| spleen_palpable | 1    |\n",
       "| spiders         | 1    |\n",
       "| ascites         | 1    |\n",
       "| varices         | 1    |\n",
       "| bilirubin       | 0.81 |\n",
       "| alk_phosphate   | 0.7  |\n",
       "| sgot            | 0.56 |\n",
       "| albumin         | 1    |\n",
       "| protime         | 0.26 |\n",
       "| histology       | 1    |\n",
       "| male            | 1    |\n",
       "| die             | 1    |\n",
       "\n"
      ],
      "text/plain": [
       "   Missing dependence: steroid p-value\n",
       "1  age                         0.5    \n",
       "2  antivirals                  0.15   \n",
       "3  fatigue                     0.35   \n",
       "4  malaise                     1      \n",
       "5  anorexia                    1      \n",
       "6  liver_big                   1      \n",
       "7  liver_firm                  1      \n",
       "8  spleen_palpable             1      \n",
       "9  spiders                     1      \n",
       "10 ascites                     1      \n",
       "11 varices                     1      \n",
       "12 bilirubin                   0.81   \n",
       "13 alk_phosphate               0.7    \n",
       "14 sgot                        0.56   \n",
       "15 albumin                     1      \n",
       "16 protime                     0.26   \n",
       "17 histology                   1      \n",
       "18 male                        1      \n",
       "19 die                         1      "
      ]
     },
     "metadata": {},
     "output_type": "display_data"
    }
   ],
   "source": [
    "dependent <- \"steroid\"\n",
    "explanatory <- setdiff(colnames(hep), dependent)\n",
    "missMAR(hep, dependent, explanatory)"
   ]
  },
  {
   "cell_type": "code",
   "execution_count": 48,
   "metadata": {
    "vscode": {
     "languageId": "r"
    }
   },
   "outputs": [
    {
     "data": {
      "text/html": [
       "<table class=\"dataframe\">\n",
       "<caption>A data.frame: 19 × 2</caption>\n",
       "<thead>\n",
       "\t<tr><th scope=col>Missing dependence: fatigue</th><th scope=col>p-value</th></tr>\n",
       "\t<tr><th scope=col>&lt;chr&gt;</th><th scope=col>&lt;chr&gt;</th></tr>\n",
       "</thead>\n",
       "<tbody>\n",
       "\t<tr><td>age            </td><td>1             </td></tr>\n",
       "\t<tr><td>steroid        </td><td>0.49          </td></tr>\n",
       "\t<tr><td>antivirals     </td><td>1             </td></tr>\n",
       "\t<tr><td>malaise        </td><td>1             </td></tr>\n",
       "\t<tr><td>anorexia       </td><td>1             </td></tr>\n",
       "\t<tr><td>liver_big      </td><td>1             </td></tr>\n",
       "\t<tr><td>liver_firm     </td><td>1             </td></tr>\n",
       "\t<tr><td>spleen_palpable</td><td>1             </td></tr>\n",
       "\t<tr><td>spiders        </td><td>1             </td></tr>\n",
       "\t<tr><td>ascites        </td><td>1             </td></tr>\n",
       "\t<tr><td>varices        </td><td>1             </td></tr>\n",
       "\t<tr><td>bilirubin      </td><td>no variability</td></tr>\n",
       "\t<tr><td>alk_phosphate  </td><td>no variability</td></tr>\n",
       "\t<tr><td>sgot           </td><td>no variability</td></tr>\n",
       "\t<tr><td>albumin        </td><td>no variability</td></tr>\n",
       "\t<tr><td>protime        </td><td>no variability</td></tr>\n",
       "\t<tr><td>histology      </td><td>1             </td></tr>\n",
       "\t<tr><td>male           </td><td>1             </td></tr>\n",
       "\t<tr><td>die            </td><td>1             </td></tr>\n",
       "</tbody>\n",
       "</table>\n"
      ],
      "text/latex": [
       "A data.frame: 19 × 2\n",
       "\\begin{tabular}{ll}\n",
       " Missing dependence: fatigue & p-value\\\\\n",
       " <chr> & <chr>\\\\\n",
       "\\hline\n",
       "\t age             & 1             \\\\\n",
       "\t steroid         & 0.49          \\\\\n",
       "\t antivirals      & 1             \\\\\n",
       "\t malaise         & 1             \\\\\n",
       "\t anorexia        & 1             \\\\\n",
       "\t liver\\_big       & 1             \\\\\n",
       "\t liver\\_firm      & 1             \\\\\n",
       "\t spleen\\_palpable & 1             \\\\\n",
       "\t spiders         & 1             \\\\\n",
       "\t ascites         & 1             \\\\\n",
       "\t varices         & 1             \\\\\n",
       "\t bilirubin       & no variability\\\\\n",
       "\t alk\\_phosphate   & no variability\\\\\n",
       "\t sgot            & no variability\\\\\n",
       "\t albumin         & no variability\\\\\n",
       "\t protime         & no variability\\\\\n",
       "\t histology       & 1             \\\\\n",
       "\t male            & 1             \\\\\n",
       "\t die             & 1             \\\\\n",
       "\\end{tabular}\n"
      ],
      "text/markdown": [
       "\n",
       "A data.frame: 19 × 2\n",
       "\n",
       "| Missing dependence: fatigue &lt;chr&gt; | p-value &lt;chr&gt; |\n",
       "|---|---|\n",
       "| age             | 1              |\n",
       "| steroid         | 0.49           |\n",
       "| antivirals      | 1              |\n",
       "| malaise         | 1              |\n",
       "| anorexia        | 1              |\n",
       "| liver_big       | 1              |\n",
       "| liver_firm      | 1              |\n",
       "| spleen_palpable | 1              |\n",
       "| spiders         | 1              |\n",
       "| ascites         | 1              |\n",
       "| varices         | 1              |\n",
       "| bilirubin       | no variability |\n",
       "| alk_phosphate   | no variability |\n",
       "| sgot            | no variability |\n",
       "| albumin         | no variability |\n",
       "| protime         | no variability |\n",
       "| histology       | 1              |\n",
       "| male            | 1              |\n",
       "| die             | 1              |\n",
       "\n"
      ],
      "text/plain": [
       "   Missing dependence: fatigue p-value       \n",
       "1  age                         1             \n",
       "2  steroid                     0.49          \n",
       "3  antivirals                  1             \n",
       "4  malaise                     1             \n",
       "5  anorexia                    1             \n",
       "6  liver_big                   1             \n",
       "7  liver_firm                  1             \n",
       "8  spleen_palpable             1             \n",
       "9  spiders                     1             \n",
       "10 ascites                     1             \n",
       "11 varices                     1             \n",
       "12 bilirubin                   no variability\n",
       "13 alk_phosphate               no variability\n",
       "14 sgot                        no variability\n",
       "15 albumin                     no variability\n",
       "16 protime                     no variability\n",
       "17 histology                   1             \n",
       "18 male                        1             \n",
       "19 die                         1             "
      ]
     },
     "metadata": {},
     "output_type": "display_data"
    }
   ],
   "source": [
    "dependent <- \"fatigue\"\n",
    "explanatory <- setdiff(colnames(hep), dependent)\n",
    "missMAR(hep, dependent, explanatory)"
   ]
  },
  {
   "cell_type": "code",
   "execution_count": 49,
   "metadata": {
    "vscode": {
     "languageId": "r"
    }
   },
   "outputs": [
    {
     "data": {
      "text/html": [
       "<table class=\"dataframe\">\n",
       "<caption>A data.frame: 19 × 2</caption>\n",
       "<thead>\n",
       "\t<tr><th scope=col>Missing dependence: malaise</th><th scope=col>p-value</th></tr>\n",
       "\t<tr><th scope=col>&lt;chr&gt;</th><th scope=col>&lt;chr&gt;</th></tr>\n",
       "</thead>\n",
       "<tbody>\n",
       "\t<tr><td>age            </td><td>1             </td></tr>\n",
       "\t<tr><td>steroid        </td><td>0.49          </td></tr>\n",
       "\t<tr><td>antivirals     </td><td>1             </td></tr>\n",
       "\t<tr><td>fatigue        </td><td>1             </td></tr>\n",
       "\t<tr><td>anorexia       </td><td>1             </td></tr>\n",
       "\t<tr><td>liver_big      </td><td>1             </td></tr>\n",
       "\t<tr><td>liver_firm     </td><td>1             </td></tr>\n",
       "\t<tr><td>spleen_palpable</td><td>1             </td></tr>\n",
       "\t<tr><td>spiders        </td><td>1             </td></tr>\n",
       "\t<tr><td>ascites        </td><td>1             </td></tr>\n",
       "\t<tr><td>varices        </td><td>1             </td></tr>\n",
       "\t<tr><td>bilirubin      </td><td>no variability</td></tr>\n",
       "\t<tr><td>alk_phosphate  </td><td>no variability</td></tr>\n",
       "\t<tr><td>sgot           </td><td>no variability</td></tr>\n",
       "\t<tr><td>albumin        </td><td>no variability</td></tr>\n",
       "\t<tr><td>protime        </td><td>no variability</td></tr>\n",
       "\t<tr><td>histology      </td><td>1             </td></tr>\n",
       "\t<tr><td>male           </td><td>1             </td></tr>\n",
       "\t<tr><td>die            </td><td>1             </td></tr>\n",
       "</tbody>\n",
       "</table>\n"
      ],
      "text/latex": [
       "A data.frame: 19 × 2\n",
       "\\begin{tabular}{ll}\n",
       " Missing dependence: malaise & p-value\\\\\n",
       " <chr> & <chr>\\\\\n",
       "\\hline\n",
       "\t age             & 1             \\\\\n",
       "\t steroid         & 0.49          \\\\\n",
       "\t antivirals      & 1             \\\\\n",
       "\t fatigue         & 1             \\\\\n",
       "\t anorexia        & 1             \\\\\n",
       "\t liver\\_big       & 1             \\\\\n",
       "\t liver\\_firm      & 1             \\\\\n",
       "\t spleen\\_palpable & 1             \\\\\n",
       "\t spiders         & 1             \\\\\n",
       "\t ascites         & 1             \\\\\n",
       "\t varices         & 1             \\\\\n",
       "\t bilirubin       & no variability\\\\\n",
       "\t alk\\_phosphate   & no variability\\\\\n",
       "\t sgot            & no variability\\\\\n",
       "\t albumin         & no variability\\\\\n",
       "\t protime         & no variability\\\\\n",
       "\t histology       & 1             \\\\\n",
       "\t male            & 1             \\\\\n",
       "\t die             & 1             \\\\\n",
       "\\end{tabular}\n"
      ],
      "text/markdown": [
       "\n",
       "A data.frame: 19 × 2\n",
       "\n",
       "| Missing dependence: malaise &lt;chr&gt; | p-value &lt;chr&gt; |\n",
       "|---|---|\n",
       "| age             | 1              |\n",
       "| steroid         | 0.49           |\n",
       "| antivirals      | 1              |\n",
       "| fatigue         | 1              |\n",
       "| anorexia        | 1              |\n",
       "| liver_big       | 1              |\n",
       "| liver_firm      | 1              |\n",
       "| spleen_palpable | 1              |\n",
       "| spiders         | 1              |\n",
       "| ascites         | 1              |\n",
       "| varices         | 1              |\n",
       "| bilirubin       | no variability |\n",
       "| alk_phosphate   | no variability |\n",
       "| sgot            | no variability |\n",
       "| albumin         | no variability |\n",
       "| protime         | no variability |\n",
       "| histology       | 1              |\n",
       "| male            | 1              |\n",
       "| die             | 1              |\n",
       "\n"
      ],
      "text/plain": [
       "   Missing dependence: malaise p-value       \n",
       "1  age                         1             \n",
       "2  steroid                     0.49          \n",
       "3  antivirals                  1             \n",
       "4  fatigue                     1             \n",
       "5  anorexia                    1             \n",
       "6  liver_big                   1             \n",
       "7  liver_firm                  1             \n",
       "8  spleen_palpable             1             \n",
       "9  spiders                     1             \n",
       "10 ascites                     1             \n",
       "11 varices                     1             \n",
       "12 bilirubin                   no variability\n",
       "13 alk_phosphate               no variability\n",
       "14 sgot                        no variability\n",
       "15 albumin                     no variability\n",
       "16 protime                     no variability\n",
       "17 histology                   1             \n",
       "18 male                        1             \n",
       "19 die                         1             "
      ]
     },
     "metadata": {},
     "output_type": "display_data"
    }
   ],
   "source": [
    "dependent <- \"malaise\"\n",
    "explanatory <- setdiff(colnames(hep), dependent)\n",
    "missMAR(hep, dependent, explanatory)"
   ]
  },
  {
   "cell_type": "code",
   "execution_count": 50,
   "metadata": {
    "vscode": {
     "languageId": "r"
    }
   },
   "outputs": [
    {
     "data": {
      "text/html": [
       "<table class=\"dataframe\">\n",
       "<caption>A data.frame: 19 × 2</caption>\n",
       "<thead>\n",
       "\t<tr><th scope=col>Missing dependence: anorexia</th><th scope=col>p-value</th></tr>\n",
       "\t<tr><th scope=col>&lt;chr&gt;</th><th scope=col>&lt;chr&gt;</th></tr>\n",
       "</thead>\n",
       "<tbody>\n",
       "\t<tr><td>age            </td><td>1             </td></tr>\n",
       "\t<tr><td>steroid        </td><td>0.49          </td></tr>\n",
       "\t<tr><td>antivirals     </td><td>1             </td></tr>\n",
       "\t<tr><td>fatigue        </td><td>1             </td></tr>\n",
       "\t<tr><td>malaise        </td><td>1             </td></tr>\n",
       "\t<tr><td>liver_big      </td><td>1             </td></tr>\n",
       "\t<tr><td>liver_firm     </td><td>1             </td></tr>\n",
       "\t<tr><td>spleen_palpable</td><td>1             </td></tr>\n",
       "\t<tr><td>spiders        </td><td>1             </td></tr>\n",
       "\t<tr><td>ascites        </td><td>1             </td></tr>\n",
       "\t<tr><td>varices        </td><td>1             </td></tr>\n",
       "\t<tr><td>bilirubin      </td><td>no variability</td></tr>\n",
       "\t<tr><td>alk_phosphate  </td><td>no variability</td></tr>\n",
       "\t<tr><td>sgot           </td><td>no variability</td></tr>\n",
       "\t<tr><td>albumin        </td><td>no variability</td></tr>\n",
       "\t<tr><td>protime        </td><td>no variability</td></tr>\n",
       "\t<tr><td>histology      </td><td>1             </td></tr>\n",
       "\t<tr><td>male           </td><td>1             </td></tr>\n",
       "\t<tr><td>die            </td><td>1             </td></tr>\n",
       "</tbody>\n",
       "</table>\n"
      ],
      "text/latex": [
       "A data.frame: 19 × 2\n",
       "\\begin{tabular}{ll}\n",
       " Missing dependence: anorexia & p-value\\\\\n",
       " <chr> & <chr>\\\\\n",
       "\\hline\n",
       "\t age             & 1             \\\\\n",
       "\t steroid         & 0.49          \\\\\n",
       "\t antivirals      & 1             \\\\\n",
       "\t fatigue         & 1             \\\\\n",
       "\t malaise         & 1             \\\\\n",
       "\t liver\\_big       & 1             \\\\\n",
       "\t liver\\_firm      & 1             \\\\\n",
       "\t spleen\\_palpable & 1             \\\\\n",
       "\t spiders         & 1             \\\\\n",
       "\t ascites         & 1             \\\\\n",
       "\t varices         & 1             \\\\\n",
       "\t bilirubin       & no variability\\\\\n",
       "\t alk\\_phosphate   & no variability\\\\\n",
       "\t sgot            & no variability\\\\\n",
       "\t albumin         & no variability\\\\\n",
       "\t protime         & no variability\\\\\n",
       "\t histology       & 1             \\\\\n",
       "\t male            & 1             \\\\\n",
       "\t die             & 1             \\\\\n",
       "\\end{tabular}\n"
      ],
      "text/markdown": [
       "\n",
       "A data.frame: 19 × 2\n",
       "\n",
       "| Missing dependence: anorexia &lt;chr&gt; | p-value &lt;chr&gt; |\n",
       "|---|---|\n",
       "| age             | 1              |\n",
       "| steroid         | 0.49           |\n",
       "| antivirals      | 1              |\n",
       "| fatigue         | 1              |\n",
       "| malaise         | 1              |\n",
       "| liver_big       | 1              |\n",
       "| liver_firm      | 1              |\n",
       "| spleen_palpable | 1              |\n",
       "| spiders         | 1              |\n",
       "| ascites         | 1              |\n",
       "| varices         | 1              |\n",
       "| bilirubin       | no variability |\n",
       "| alk_phosphate   | no variability |\n",
       "| sgot            | no variability |\n",
       "| albumin         | no variability |\n",
       "| protime         | no variability |\n",
       "| histology       | 1              |\n",
       "| male            | 1              |\n",
       "| die             | 1              |\n",
       "\n"
      ],
      "text/plain": [
       "   Missing dependence: anorexia p-value       \n",
       "1  age                          1             \n",
       "2  steroid                      0.49          \n",
       "3  antivirals                   1             \n",
       "4  fatigue                      1             \n",
       "5  malaise                      1             \n",
       "6  liver_big                    1             \n",
       "7  liver_firm                   1             \n",
       "8  spleen_palpable              1             \n",
       "9  spiders                      1             \n",
       "10 ascites                      1             \n",
       "11 varices                      1             \n",
       "12 bilirubin                    no variability\n",
       "13 alk_phosphate                no variability\n",
       "14 sgot                         no variability\n",
       "15 albumin                      no variability\n",
       "16 protime                      no variability\n",
       "17 histology                    1             \n",
       "18 male                         1             \n",
       "19 die                          1             "
      ]
     },
     "metadata": {},
     "output_type": "display_data"
    }
   ],
   "source": [
    "dependent <- \"anorexia\"\n",
    "explanatory <- setdiff(colnames(hep), dependent)\n",
    "missMAR(hep, dependent, explanatory)"
   ]
  },
  {
   "cell_type": "code",
   "execution_count": 51,
   "metadata": {
    "vscode": {
     "languageId": "r"
    }
   },
   "outputs": [
    {
     "data": {
      "text/html": [
       "<table class=\"dataframe\">\n",
       "<caption>A data.frame: 19 × 2</caption>\n",
       "<thead>\n",
       "\t<tr><th scope=col>Missing dependence: liver_big</th><th scope=col>p-value</th></tr>\n",
       "\t<tr><th scope=col>&lt;chr&gt;</th><th scope=col>&lt;chr&gt;</th></tr>\n",
       "</thead>\n",
       "<tbody>\n",
       "\t<tr><td>age            </td><td>0.33</td></tr>\n",
       "\t<tr><td>steroid        </td><td>0.53</td></tr>\n",
       "\t<tr><td>antivirals     </td><td>0.36</td></tr>\n",
       "\t<tr><td>fatigue        </td><td>0.5 </td></tr>\n",
       "\t<tr><td>malaise        </td><td>0.16</td></tr>\n",
       "\t<tr><td>anorexia       </td><td>0.39</td></tr>\n",
       "\t<tr><td>liver_firm     </td><td>1   </td></tr>\n",
       "\t<tr><td>spleen_palpable</td><td>0.34</td></tr>\n",
       "\t<tr><td>spiders        </td><td>0.41</td></tr>\n",
       "\t<tr><td>ascites        </td><td>0.03</td></tr>\n",
       "\t<tr><td>varices        </td><td>1   </td></tr>\n",
       "\t<tr><td>bilirubin      </td><td>0.42</td></tr>\n",
       "\t<tr><td>alk_phosphate  </td><td>0.19</td></tr>\n",
       "\t<tr><td>sgot           </td><td>0.9 </td></tr>\n",
       "\t<tr><td>albumin        </td><td>0.45</td></tr>\n",
       "\t<tr><td>protime        </td><td>0.19</td></tr>\n",
       "\t<tr><td>histology      </td><td>0.35</td></tr>\n",
       "\t<tr><td>male           </td><td>0.6 </td></tr>\n",
       "\t<tr><td>die            </td><td>0.03</td></tr>\n",
       "</tbody>\n",
       "</table>\n"
      ],
      "text/latex": [
       "A data.frame: 19 × 2\n",
       "\\begin{tabular}{ll}\n",
       " Missing dependence: liver\\_big & p-value\\\\\n",
       " <chr> & <chr>\\\\\n",
       "\\hline\n",
       "\t age             & 0.33\\\\\n",
       "\t steroid         & 0.53\\\\\n",
       "\t antivirals      & 0.36\\\\\n",
       "\t fatigue         & 0.5 \\\\\n",
       "\t malaise         & 0.16\\\\\n",
       "\t anorexia        & 0.39\\\\\n",
       "\t liver\\_firm      & 1   \\\\\n",
       "\t spleen\\_palpable & 0.34\\\\\n",
       "\t spiders         & 0.41\\\\\n",
       "\t ascites         & 0.03\\\\\n",
       "\t varices         & 1   \\\\\n",
       "\t bilirubin       & 0.42\\\\\n",
       "\t alk\\_phosphate   & 0.19\\\\\n",
       "\t sgot            & 0.9 \\\\\n",
       "\t albumin         & 0.45\\\\\n",
       "\t protime         & 0.19\\\\\n",
       "\t histology       & 0.35\\\\\n",
       "\t male            & 0.6 \\\\\n",
       "\t die             & 0.03\\\\\n",
       "\\end{tabular}\n"
      ],
      "text/markdown": [
       "\n",
       "A data.frame: 19 × 2\n",
       "\n",
       "| Missing dependence: liver_big &lt;chr&gt; | p-value &lt;chr&gt; |\n",
       "|---|---|\n",
       "| age             | 0.33 |\n",
       "| steroid         | 0.53 |\n",
       "| antivirals      | 0.36 |\n",
       "| fatigue         | 0.5  |\n",
       "| malaise         | 0.16 |\n",
       "| anorexia        | 0.39 |\n",
       "| liver_firm      | 1    |\n",
       "| spleen_palpable | 0.34 |\n",
       "| spiders         | 0.41 |\n",
       "| ascites         | 0.03 |\n",
       "| varices         | 1    |\n",
       "| bilirubin       | 0.42 |\n",
       "| alk_phosphate   | 0.19 |\n",
       "| sgot            | 0.9  |\n",
       "| albumin         | 0.45 |\n",
       "| protime         | 0.19 |\n",
       "| histology       | 0.35 |\n",
       "| male            | 0.6  |\n",
       "| die             | 0.03 |\n",
       "\n"
      ],
      "text/plain": [
       "   Missing dependence: liver_big p-value\n",
       "1  age                           0.33   \n",
       "2  steroid                       0.53   \n",
       "3  antivirals                    0.36   \n",
       "4  fatigue                       0.5    \n",
       "5  malaise                       0.16   \n",
       "6  anorexia                      0.39   \n",
       "7  liver_firm                    1      \n",
       "8  spleen_palpable               0.34   \n",
       "9  spiders                       0.41   \n",
       "10 ascites                       0.03   \n",
       "11 varices                       1      \n",
       "12 bilirubin                     0.42   \n",
       "13 alk_phosphate                 0.19   \n",
       "14 sgot                          0.9    \n",
       "15 albumin                       0.45   \n",
       "16 protime                       0.19   \n",
       "17 histology                     0.35   \n",
       "18 male                          0.6    \n",
       "19 die                           0.03   "
      ]
     },
     "metadata": {},
     "output_type": "display_data"
    }
   ],
   "source": [
    "dependent <- \"liver_big\"\n",
    "explanatory <- setdiff(colnames(hep), dependent)\n",
    "missMAR(hep, dependent, explanatory)"
   ]
  },
  {
   "cell_type": "code",
   "execution_count": 52,
   "metadata": {
    "vscode": {
     "languageId": "r"
    }
   },
   "outputs": [
    {
     "data": {
      "text/html": [
       "<table class=\"dataframe\">\n",
       "<caption>A data.frame: 19 × 2</caption>\n",
       "<thead>\n",
       "\t<tr><th scope=col>Missing dependence: liver_firm</th><th scope=col>p-value</th></tr>\n",
       "\t<tr><th scope=col>&lt;chr&gt;</th><th scope=col>&lt;chr&gt;</th></tr>\n",
       "</thead>\n",
       "<tbody>\n",
       "\t<tr><td>age            </td><td>0.34</td></tr>\n",
       "\t<tr><td>steroid        </td><td>0.37</td></tr>\n",
       "\t<tr><td>antivirals     </td><td>0.22</td></tr>\n",
       "\t<tr><td>fatigue        </td><td>1   </td></tr>\n",
       "\t<tr><td>malaise        </td><td>0.2 </td></tr>\n",
       "\t<tr><td>anorexia       </td><td>0.43</td></tr>\n",
       "\t<tr><td>liver_big      </td><td>1   </td></tr>\n",
       "\t<tr><td>spleen_palpable</td><td>0.63</td></tr>\n",
       "\t<tr><td>spiders        </td><td>0.69</td></tr>\n",
       "\t<tr><td>ascites        </td><td>0.05</td></tr>\n",
       "\t<tr><td>varices        </td><td>1   </td></tr>\n",
       "\t<tr><td>bilirubin      </td><td>0.43</td></tr>\n",
       "\t<tr><td>alk_phosphate  </td><td>0.14</td></tr>\n",
       "\t<tr><td>sgot           </td><td>0.8 </td></tr>\n",
       "\t<tr><td>albumin        </td><td>0.54</td></tr>\n",
       "\t<tr><td>protime        </td><td>0.19</td></tr>\n",
       "\t<tr><td>histology      </td><td>0.22</td></tr>\n",
       "\t<tr><td>male           </td><td>0.61</td></tr>\n",
       "\t<tr><td>die            </td><td>0.05</td></tr>\n",
       "</tbody>\n",
       "</table>\n"
      ],
      "text/latex": [
       "A data.frame: 19 × 2\n",
       "\\begin{tabular}{ll}\n",
       " Missing dependence: liver\\_firm & p-value\\\\\n",
       " <chr> & <chr>\\\\\n",
       "\\hline\n",
       "\t age             & 0.34\\\\\n",
       "\t steroid         & 0.37\\\\\n",
       "\t antivirals      & 0.22\\\\\n",
       "\t fatigue         & 1   \\\\\n",
       "\t malaise         & 0.2 \\\\\n",
       "\t anorexia        & 0.43\\\\\n",
       "\t liver\\_big       & 1   \\\\\n",
       "\t spleen\\_palpable & 0.63\\\\\n",
       "\t spiders         & 0.69\\\\\n",
       "\t ascites         & 0.05\\\\\n",
       "\t varices         & 1   \\\\\n",
       "\t bilirubin       & 0.43\\\\\n",
       "\t alk\\_phosphate   & 0.14\\\\\n",
       "\t sgot            & 0.8 \\\\\n",
       "\t albumin         & 0.54\\\\\n",
       "\t protime         & 0.19\\\\\n",
       "\t histology       & 0.22\\\\\n",
       "\t male            & 0.61\\\\\n",
       "\t die             & 0.05\\\\\n",
       "\\end{tabular}\n"
      ],
      "text/markdown": [
       "\n",
       "A data.frame: 19 × 2\n",
       "\n",
       "| Missing dependence: liver_firm &lt;chr&gt; | p-value &lt;chr&gt; |\n",
       "|---|---|\n",
       "| age             | 0.34 |\n",
       "| steroid         | 0.37 |\n",
       "| antivirals      | 0.22 |\n",
       "| fatigue         | 1    |\n",
       "| malaise         | 0.2  |\n",
       "| anorexia        | 0.43 |\n",
       "| liver_big       | 1    |\n",
       "| spleen_palpable | 0.63 |\n",
       "| spiders         | 0.69 |\n",
       "| ascites         | 0.05 |\n",
       "| varices         | 1    |\n",
       "| bilirubin       | 0.43 |\n",
       "| alk_phosphate   | 0.14 |\n",
       "| sgot            | 0.8  |\n",
       "| albumin         | 0.54 |\n",
       "| protime         | 0.19 |\n",
       "| histology       | 0.22 |\n",
       "| male            | 0.61 |\n",
       "| die             | 0.05 |\n",
       "\n"
      ],
      "text/plain": [
       "   Missing dependence: liver_firm p-value\n",
       "1  age                            0.34   \n",
       "2  steroid                        0.37   \n",
       "3  antivirals                     0.22   \n",
       "4  fatigue                        1      \n",
       "5  malaise                        0.2    \n",
       "6  anorexia                       0.43   \n",
       "7  liver_big                      1      \n",
       "8  spleen_palpable                0.63   \n",
       "9  spiders                        0.69   \n",
       "10 ascites                        0.05   \n",
       "11 varices                        1      \n",
       "12 bilirubin                      0.43   \n",
       "13 alk_phosphate                  0.14   \n",
       "14 sgot                           0.8    \n",
       "15 albumin                        0.54   \n",
       "16 protime                        0.19   \n",
       "17 histology                      0.22   \n",
       "18 male                           0.61   \n",
       "19 die                            0.05   "
      ]
     },
     "metadata": {},
     "output_type": "display_data"
    }
   ],
   "source": [
    "dependent <- \"liver_firm\"\n",
    "explanatory <- setdiff(colnames(hep), dependent)\n",
    "missMAR(hep, dependent, explanatory)"
   ]
  },
  {
   "cell_type": "code",
   "execution_count": 53,
   "metadata": {
    "vscode": {
     "languageId": "r"
    }
   },
   "outputs": [
    {
     "data": {
      "text/html": [
       "<table class=\"dataframe\">\n",
       "<caption>A data.frame: 19 × 2</caption>\n",
       "<thead>\n",
       "\t<tr><th scope=col>Missing dependence: spleen_palpable</th><th scope=col>p-value</th></tr>\n",
       "\t<tr><th scope=col>&lt;chr&gt;</th><th scope=col>&lt;chr&gt;</th></tr>\n",
       "</thead>\n",
       "<tbody>\n",
       "\t<tr><td>age          </td><td>0.15</td></tr>\n",
       "\t<tr><td>steroid      </td><td>0.68</td></tr>\n",
       "\t<tr><td>antivirals   </td><td>1   </td></tr>\n",
       "\t<tr><td>fatigue      </td><td>1   </td></tr>\n",
       "\t<tr><td>malaise      </td><td>0.3 </td></tr>\n",
       "\t<tr><td>anorexia     </td><td>0.19</td></tr>\n",
       "\t<tr><td>liver_big    </td><td>1   </td></tr>\n",
       "\t<tr><td>liver_firm   </td><td>1   </td></tr>\n",
       "\t<tr><td>spiders      </td><td>1   </td></tr>\n",
       "\t<tr><td>ascites      </td><td>1   </td></tr>\n",
       "\t<tr><td>varices      </td><td>1   </td></tr>\n",
       "\t<tr><td>bilirubin    </td><td>0.27</td></tr>\n",
       "\t<tr><td>alk_phosphate</td><td>0.17</td></tr>\n",
       "\t<tr><td>sgot         </td><td>0.2 </td></tr>\n",
       "\t<tr><td>albumin      </td><td>0.13</td></tr>\n",
       "\t<tr><td>protime      </td><td>0.48</td></tr>\n",
       "\t<tr><td>histology    </td><td>0.38</td></tr>\n",
       "\t<tr><td>male         </td><td>0.42</td></tr>\n",
       "\t<tr><td>die          </td><td>1   </td></tr>\n",
       "</tbody>\n",
       "</table>\n"
      ],
      "text/latex": [
       "A data.frame: 19 × 2\n",
       "\\begin{tabular}{ll}\n",
       " Missing dependence: spleen\\_palpable & p-value\\\\\n",
       " <chr> & <chr>\\\\\n",
       "\\hline\n",
       "\t age           & 0.15\\\\\n",
       "\t steroid       & 0.68\\\\\n",
       "\t antivirals    & 1   \\\\\n",
       "\t fatigue       & 1   \\\\\n",
       "\t malaise       & 0.3 \\\\\n",
       "\t anorexia      & 0.19\\\\\n",
       "\t liver\\_big     & 1   \\\\\n",
       "\t liver\\_firm    & 1   \\\\\n",
       "\t spiders       & 1   \\\\\n",
       "\t ascites       & 1   \\\\\n",
       "\t varices       & 1   \\\\\n",
       "\t bilirubin     & 0.27\\\\\n",
       "\t alk\\_phosphate & 0.17\\\\\n",
       "\t sgot          & 0.2 \\\\\n",
       "\t albumin       & 0.13\\\\\n",
       "\t protime       & 0.48\\\\\n",
       "\t histology     & 0.38\\\\\n",
       "\t male          & 0.42\\\\\n",
       "\t die           & 1   \\\\\n",
       "\\end{tabular}\n"
      ],
      "text/markdown": [
       "\n",
       "A data.frame: 19 × 2\n",
       "\n",
       "| Missing dependence: spleen_palpable &lt;chr&gt; | p-value &lt;chr&gt; |\n",
       "|---|---|\n",
       "| age           | 0.15 |\n",
       "| steroid       | 0.68 |\n",
       "| antivirals    | 1    |\n",
       "| fatigue       | 1    |\n",
       "| malaise       | 0.3  |\n",
       "| anorexia      | 0.19 |\n",
       "| liver_big     | 1    |\n",
       "| liver_firm    | 1    |\n",
       "| spiders       | 1    |\n",
       "| ascites       | 1    |\n",
       "| varices       | 1    |\n",
       "| bilirubin     | 0.27 |\n",
       "| alk_phosphate | 0.17 |\n",
       "| sgot          | 0.2  |\n",
       "| albumin       | 0.13 |\n",
       "| protime       | 0.48 |\n",
       "| histology     | 0.38 |\n",
       "| male          | 0.42 |\n",
       "| die           | 1    |\n",
       "\n"
      ],
      "text/plain": [
       "   Missing dependence: spleen_palpable p-value\n",
       "1  age                                 0.15   \n",
       "2  steroid                             0.68   \n",
       "3  antivirals                          1      \n",
       "4  fatigue                             1      \n",
       "5  malaise                             0.3    \n",
       "6  anorexia                            0.19   \n",
       "7  liver_big                           1      \n",
       "8  liver_firm                          1      \n",
       "9  spiders                             1      \n",
       "10 ascites                             1      \n",
       "11 varices                             1      \n",
       "12 bilirubin                           0.27   \n",
       "13 alk_phosphate                       0.17   \n",
       "14 sgot                                0.2    \n",
       "15 albumin                             0.13   \n",
       "16 protime                             0.48   \n",
       "17 histology                           0.38   \n",
       "18 male                                0.42   \n",
       "19 die                                 1      "
      ]
     },
     "metadata": {},
     "output_type": "display_data"
    }
   ],
   "source": [
    "dependent <- \"spleen_palpable\"\n",
    "explanatory <- setdiff(colnames(hep), dependent)\n",
    "missMAR(hep, dependent, explanatory)"
   ]
  },
  {
   "cell_type": "code",
   "execution_count": 54,
   "metadata": {
    "vscode": {
     "languageId": "r"
    }
   },
   "outputs": [
    {
     "data": {
      "text/html": [
       "<table class=\"dataframe\">\n",
       "<caption>A data.frame: 19 × 2</caption>\n",
       "<thead>\n",
       "\t<tr><th scope=col>Missing dependence: spiders</th><th scope=col>p-value</th></tr>\n",
       "\t<tr><th scope=col>&lt;chr&gt;</th><th scope=col>&lt;chr&gt;</th></tr>\n",
       "</thead>\n",
       "<tbody>\n",
       "\t<tr><td>age            </td><td>0.15</td></tr>\n",
       "\t<tr><td>steroid        </td><td>0.68</td></tr>\n",
       "\t<tr><td>antivirals     </td><td>1   </td></tr>\n",
       "\t<tr><td>fatigue        </td><td>1   </td></tr>\n",
       "\t<tr><td>malaise        </td><td>0.3 </td></tr>\n",
       "\t<tr><td>anorexia       </td><td>0.19</td></tr>\n",
       "\t<tr><td>liver_big      </td><td>1   </td></tr>\n",
       "\t<tr><td>liver_firm     </td><td>1   </td></tr>\n",
       "\t<tr><td>spleen_palpable</td><td>1   </td></tr>\n",
       "\t<tr><td>ascites        </td><td>1   </td></tr>\n",
       "\t<tr><td>varices        </td><td>1   </td></tr>\n",
       "\t<tr><td>bilirubin      </td><td>0.25</td></tr>\n",
       "\t<tr><td>alk_phosphate  </td><td>0.17</td></tr>\n",
       "\t<tr><td>sgot           </td><td>0.21</td></tr>\n",
       "\t<tr><td>albumin        </td><td>0.12</td></tr>\n",
       "\t<tr><td>protime        </td><td>0.5 </td></tr>\n",
       "\t<tr><td>histology      </td><td>0.38</td></tr>\n",
       "\t<tr><td>male           </td><td>0.42</td></tr>\n",
       "\t<tr><td>die            </td><td>1   </td></tr>\n",
       "</tbody>\n",
       "</table>\n"
      ],
      "text/latex": [
       "A data.frame: 19 × 2\n",
       "\\begin{tabular}{ll}\n",
       " Missing dependence: spiders & p-value\\\\\n",
       " <chr> & <chr>\\\\\n",
       "\\hline\n",
       "\t age             & 0.15\\\\\n",
       "\t steroid         & 0.68\\\\\n",
       "\t antivirals      & 1   \\\\\n",
       "\t fatigue         & 1   \\\\\n",
       "\t malaise         & 0.3 \\\\\n",
       "\t anorexia        & 0.19\\\\\n",
       "\t liver\\_big       & 1   \\\\\n",
       "\t liver\\_firm      & 1   \\\\\n",
       "\t spleen\\_palpable & 1   \\\\\n",
       "\t ascites         & 1   \\\\\n",
       "\t varices         & 1   \\\\\n",
       "\t bilirubin       & 0.25\\\\\n",
       "\t alk\\_phosphate   & 0.17\\\\\n",
       "\t sgot            & 0.21\\\\\n",
       "\t albumin         & 0.12\\\\\n",
       "\t protime         & 0.5 \\\\\n",
       "\t histology       & 0.38\\\\\n",
       "\t male            & 0.42\\\\\n",
       "\t die             & 1   \\\\\n",
       "\\end{tabular}\n"
      ],
      "text/markdown": [
       "\n",
       "A data.frame: 19 × 2\n",
       "\n",
       "| Missing dependence: spiders &lt;chr&gt; | p-value &lt;chr&gt; |\n",
       "|---|---|\n",
       "| age             | 0.15 |\n",
       "| steroid         | 0.68 |\n",
       "| antivirals      | 1    |\n",
       "| fatigue         | 1    |\n",
       "| malaise         | 0.3  |\n",
       "| anorexia        | 0.19 |\n",
       "| liver_big       | 1    |\n",
       "| liver_firm      | 1    |\n",
       "| spleen_palpable | 1    |\n",
       "| ascites         | 1    |\n",
       "| varices         | 1    |\n",
       "| bilirubin       | 0.25 |\n",
       "| alk_phosphate   | 0.17 |\n",
       "| sgot            | 0.21 |\n",
       "| albumin         | 0.12 |\n",
       "| protime         | 0.5  |\n",
       "| histology       | 0.38 |\n",
       "| male            | 0.42 |\n",
       "| die             | 1    |\n",
       "\n"
      ],
      "text/plain": [
       "   Missing dependence: spiders p-value\n",
       "1  age                         0.15   \n",
       "2  steroid                     0.68   \n",
       "3  antivirals                  1      \n",
       "4  fatigue                     1      \n",
       "5  malaise                     0.3    \n",
       "6  anorexia                    0.19   \n",
       "7  liver_big                   1      \n",
       "8  liver_firm                  1      \n",
       "9  spleen_palpable             1      \n",
       "10 ascites                     1      \n",
       "11 varices                     1      \n",
       "12 bilirubin                   0.25   \n",
       "13 alk_phosphate               0.17   \n",
       "14 sgot                        0.21   \n",
       "15 albumin                     0.12   \n",
       "16 protime                     0.5    \n",
       "17 histology                   0.38   \n",
       "18 male                        0.42   \n",
       "19 die                         1      "
      ]
     },
     "metadata": {},
     "output_type": "display_data"
    }
   ],
   "source": [
    "dependent <- \"spiders\"\n",
    "explanatory <- setdiff(colnames(hep), dependent)\n",
    "missMAR(hep, dependent, explanatory)"
   ]
  },
  {
   "cell_type": "code",
   "execution_count": 55,
   "metadata": {
    "vscode": {
     "languageId": "r"
    }
   },
   "outputs": [
    {
     "data": {
      "text/html": [
       "<table class=\"dataframe\">\n",
       "<caption>A data.frame: 19 × 2</caption>\n",
       "<thead>\n",
       "\t<tr><th scope=col>Missing dependence: ascites</th><th scope=col>p-value</th></tr>\n",
       "\t<tr><th scope=col>&lt;chr&gt;</th><th scope=col>&lt;chr&gt;</th></tr>\n",
       "</thead>\n",
       "<tbody>\n",
       "\t<tr><td>age            </td><td>0.16</td></tr>\n",
       "\t<tr><td>steroid        </td><td>0.68</td></tr>\n",
       "\t<tr><td>antivirals     </td><td>1   </td></tr>\n",
       "\t<tr><td>fatigue        </td><td>1   </td></tr>\n",
       "\t<tr><td>malaise        </td><td>0.3 </td></tr>\n",
       "\t<tr><td>anorexia       </td><td>0.19</td></tr>\n",
       "\t<tr><td>liver_big      </td><td>1   </td></tr>\n",
       "\t<tr><td>liver_firm     </td><td>1   </td></tr>\n",
       "\t<tr><td>spleen_palpable</td><td>1   </td></tr>\n",
       "\t<tr><td>spiders        </td><td>1   </td></tr>\n",
       "\t<tr><td>varices        </td><td>1   </td></tr>\n",
       "\t<tr><td>bilirubin      </td><td>0.28</td></tr>\n",
       "\t<tr><td>alk_phosphate  </td><td>0.16</td></tr>\n",
       "\t<tr><td>sgot           </td><td>0.21</td></tr>\n",
       "\t<tr><td>albumin        </td><td>0.12</td></tr>\n",
       "\t<tr><td>protime        </td><td>0.48</td></tr>\n",
       "\t<tr><td>histology      </td><td>0.38</td></tr>\n",
       "\t<tr><td>male           </td><td>0.42</td></tr>\n",
       "\t<tr><td>die            </td><td>1   </td></tr>\n",
       "</tbody>\n",
       "</table>\n"
      ],
      "text/latex": [
       "A data.frame: 19 × 2\n",
       "\\begin{tabular}{ll}\n",
       " Missing dependence: ascites & p-value\\\\\n",
       " <chr> & <chr>\\\\\n",
       "\\hline\n",
       "\t age             & 0.16\\\\\n",
       "\t steroid         & 0.68\\\\\n",
       "\t antivirals      & 1   \\\\\n",
       "\t fatigue         & 1   \\\\\n",
       "\t malaise         & 0.3 \\\\\n",
       "\t anorexia        & 0.19\\\\\n",
       "\t liver\\_big       & 1   \\\\\n",
       "\t liver\\_firm      & 1   \\\\\n",
       "\t spleen\\_palpable & 1   \\\\\n",
       "\t spiders         & 1   \\\\\n",
       "\t varices         & 1   \\\\\n",
       "\t bilirubin       & 0.28\\\\\n",
       "\t alk\\_phosphate   & 0.16\\\\\n",
       "\t sgot            & 0.21\\\\\n",
       "\t albumin         & 0.12\\\\\n",
       "\t protime         & 0.48\\\\\n",
       "\t histology       & 0.38\\\\\n",
       "\t male            & 0.42\\\\\n",
       "\t die             & 1   \\\\\n",
       "\\end{tabular}\n"
      ],
      "text/markdown": [
       "\n",
       "A data.frame: 19 × 2\n",
       "\n",
       "| Missing dependence: ascites &lt;chr&gt; | p-value &lt;chr&gt; |\n",
       "|---|---|\n",
       "| age             | 0.16 |\n",
       "| steroid         | 0.68 |\n",
       "| antivirals      | 1    |\n",
       "| fatigue         | 1    |\n",
       "| malaise         | 0.3  |\n",
       "| anorexia        | 0.19 |\n",
       "| liver_big       | 1    |\n",
       "| liver_firm      | 1    |\n",
       "| spleen_palpable | 1    |\n",
       "| spiders         | 1    |\n",
       "| varices         | 1    |\n",
       "| bilirubin       | 0.28 |\n",
       "| alk_phosphate   | 0.16 |\n",
       "| sgot            | 0.21 |\n",
       "| albumin         | 0.12 |\n",
       "| protime         | 0.48 |\n",
       "| histology       | 0.38 |\n",
       "| male            | 0.42 |\n",
       "| die             | 1    |\n",
       "\n"
      ],
      "text/plain": [
       "   Missing dependence: ascites p-value\n",
       "1  age                         0.16   \n",
       "2  steroid                     0.68   \n",
       "3  antivirals                  1      \n",
       "4  fatigue                     1      \n",
       "5  malaise                     0.3    \n",
       "6  anorexia                    0.19   \n",
       "7  liver_big                   1      \n",
       "8  liver_firm                  1      \n",
       "9  spleen_palpable             1      \n",
       "10 spiders                     1      \n",
       "11 varices                     1      \n",
       "12 bilirubin                   0.28   \n",
       "13 alk_phosphate               0.16   \n",
       "14 sgot                        0.21   \n",
       "15 albumin                     0.12   \n",
       "16 protime                     0.48   \n",
       "17 histology                   0.38   \n",
       "18 male                        0.42   \n",
       "19 die                         1      "
      ]
     },
     "metadata": {},
     "output_type": "display_data"
    }
   ],
   "source": [
    "dependent <- \"ascites\"\n",
    "explanatory <- setdiff(colnames(hep), dependent)\n",
    "missMAR(hep, dependent, explanatory)"
   ]
  },
  {
   "cell_type": "code",
   "execution_count": 56,
   "metadata": {
    "vscode": {
     "languageId": "r"
    }
   },
   "outputs": [
    {
     "data": {
      "text/html": [
       "<table class=\"dataframe\">\n",
       "<caption>A data.frame: 19 × 2</caption>\n",
       "<thead>\n",
       "\t<tr><th scope=col>Missing dependence: varices</th><th scope=col>p-value</th></tr>\n",
       "\t<tr><th scope=col>&lt;chr&gt;</th><th scope=col>&lt;chr&gt;</th></tr>\n",
       "</thead>\n",
       "<tbody>\n",
       "\t<tr><td>age            </td><td>0.16</td></tr>\n",
       "\t<tr><td>steroid        </td><td>0.68</td></tr>\n",
       "\t<tr><td>antivirals     </td><td>1   </td></tr>\n",
       "\t<tr><td>fatigue        </td><td>1   </td></tr>\n",
       "\t<tr><td>malaise        </td><td>0.3 </td></tr>\n",
       "\t<tr><td>anorexia       </td><td>0.19</td></tr>\n",
       "\t<tr><td>liver_big      </td><td>1   </td></tr>\n",
       "\t<tr><td>liver_firm     </td><td>1   </td></tr>\n",
       "\t<tr><td>spleen_palpable</td><td>1   </td></tr>\n",
       "\t<tr><td>spiders        </td><td>1   </td></tr>\n",
       "\t<tr><td>ascites        </td><td>1   </td></tr>\n",
       "\t<tr><td>bilirubin      </td><td>0.25</td></tr>\n",
       "\t<tr><td>alk_phosphate  </td><td>0.17</td></tr>\n",
       "\t<tr><td>sgot           </td><td>0.2 </td></tr>\n",
       "\t<tr><td>albumin        </td><td>0.11</td></tr>\n",
       "\t<tr><td>protime        </td><td>0.51</td></tr>\n",
       "\t<tr><td>histology      </td><td>0.38</td></tr>\n",
       "\t<tr><td>male           </td><td>0.42</td></tr>\n",
       "\t<tr><td>die            </td><td>1   </td></tr>\n",
       "</tbody>\n",
       "</table>\n"
      ],
      "text/latex": [
       "A data.frame: 19 × 2\n",
       "\\begin{tabular}{ll}\n",
       " Missing dependence: varices & p-value\\\\\n",
       " <chr> & <chr>\\\\\n",
       "\\hline\n",
       "\t age             & 0.16\\\\\n",
       "\t steroid         & 0.68\\\\\n",
       "\t antivirals      & 1   \\\\\n",
       "\t fatigue         & 1   \\\\\n",
       "\t malaise         & 0.3 \\\\\n",
       "\t anorexia        & 0.19\\\\\n",
       "\t liver\\_big       & 1   \\\\\n",
       "\t liver\\_firm      & 1   \\\\\n",
       "\t spleen\\_palpable & 1   \\\\\n",
       "\t spiders         & 1   \\\\\n",
       "\t ascites         & 1   \\\\\n",
       "\t bilirubin       & 0.25\\\\\n",
       "\t alk\\_phosphate   & 0.17\\\\\n",
       "\t sgot            & 0.2 \\\\\n",
       "\t albumin         & 0.11\\\\\n",
       "\t protime         & 0.51\\\\\n",
       "\t histology       & 0.38\\\\\n",
       "\t male            & 0.42\\\\\n",
       "\t die             & 1   \\\\\n",
       "\\end{tabular}\n"
      ],
      "text/markdown": [
       "\n",
       "A data.frame: 19 × 2\n",
       "\n",
       "| Missing dependence: varices &lt;chr&gt; | p-value &lt;chr&gt; |\n",
       "|---|---|\n",
       "| age             | 0.16 |\n",
       "| steroid         | 0.68 |\n",
       "| antivirals      | 1    |\n",
       "| fatigue         | 1    |\n",
       "| malaise         | 0.3  |\n",
       "| anorexia        | 0.19 |\n",
       "| liver_big       | 1    |\n",
       "| liver_firm      | 1    |\n",
       "| spleen_palpable | 1    |\n",
       "| spiders         | 1    |\n",
       "| ascites         | 1    |\n",
       "| bilirubin       | 0.25 |\n",
       "| alk_phosphate   | 0.17 |\n",
       "| sgot            | 0.2  |\n",
       "| albumin         | 0.11 |\n",
       "| protime         | 0.51 |\n",
       "| histology       | 0.38 |\n",
       "| male            | 0.42 |\n",
       "| die             | 1    |\n",
       "\n"
      ],
      "text/plain": [
       "   Missing dependence: varices p-value\n",
       "1  age                         0.16   \n",
       "2  steroid                     0.68   \n",
       "3  antivirals                  1      \n",
       "4  fatigue                     1      \n",
       "5  malaise                     0.3    \n",
       "6  anorexia                    0.19   \n",
       "7  liver_big                   1      \n",
       "8  liver_firm                  1      \n",
       "9  spleen_palpable             1      \n",
       "10 spiders                     1      \n",
       "11 ascites                     1      \n",
       "12 bilirubin                   0.25   \n",
       "13 alk_phosphate               0.17   \n",
       "14 sgot                        0.2    \n",
       "15 albumin                     0.11   \n",
       "16 protime                     0.51   \n",
       "17 histology                   0.38   \n",
       "18 male                        0.42   \n",
       "19 die                         1      "
      ]
     },
     "metadata": {},
     "output_type": "display_data"
    }
   ],
   "source": [
    "dependent <- \"varices\"\n",
    "explanatory <- setdiff(colnames(hep), dependent)\n",
    "missMAR(hep, dependent, explanatory)"
   ]
  },
  {
   "cell_type": "code",
   "execution_count": 8,
   "metadata": {
    "vscode": {
     "languageId": "r"
    }
   },
   "outputs": [],
   "source": [
    "hep <- hep %>%\n",
    "  filter(!is.na(bilirubin) & !is.na(sgot) & !is.na(fatigue) & !is.na(malaise) & !is.na(anorexia))"
   ]
  },
  {
   "cell_type": "code",
   "execution_count": 58,
   "metadata": {
    "vscode": {
     "languageId": "r"
    }
   },
   "outputs": [],
   "source": [
    "write.csv(hep, \"hepatitis2.csv\", row.names = FALSE)"
   ]
  },
  {
   "cell_type": "code",
   "execution_count": 59,
   "metadata": {
    "vscode": {
     "languageId": "r"
    }
   },
   "outputs": [
    {
     "data": {
      "text/html": [
       "<dl>\n",
       "\t<dt>$Continuous</dt>\n",
       "\t\t<dd><table class=\"dataframe\">\n",
       "<caption>A data.frame: 6 × 12</caption>\n",
       "<thead>\n",
       "\t<tr><th></th><th scope=col>label</th><th scope=col>var_type</th><th scope=col>n</th><th scope=col>missing_n</th><th scope=col>missing_percent</th><th scope=col>mean</th><th scope=col>sd</th><th scope=col>min</th><th scope=col>quartile_25</th><th scope=col>median</th><th scope=col>quartile_75</th><th scope=col>max</th></tr>\n",
       "\t<tr><th></th><th scope=col>&lt;chr&gt;</th><th scope=col>&lt;chr&gt;</th><th scope=col>&lt;int&gt;</th><th scope=col>&lt;int&gt;</th><th scope=col>&lt;chr&gt;</th><th scope=col>&lt;chr&gt;</th><th scope=col>&lt;chr&gt;</th><th scope=col>&lt;chr&gt;</th><th scope=col>&lt;chr&gt;</th><th scope=col>&lt;chr&gt;</th><th scope=col>&lt;chr&gt;</th><th scope=col>&lt;chr&gt;</th></tr>\n",
       "</thead>\n",
       "<tbody>\n",
       "\t<tr><th scope=row>age</th><td><span style=white-space:pre-wrap>age          </span></td><td>&lt;int&gt;</td><td>148</td><td> 0</td><td>0.0 </td><td>41.1 </td><td>12.5</td><td>7.0 </td><td>32.0</td><td>39.0</td><td>50.0 </td><td>78.0 </td></tr>\n",
       "\t<tr><th scope=row>bilirubin</th><td><span style=white-space:pre-wrap>bilirubin    </span></td><td>&lt;dbl&gt;</td><td>148</td><td> 0</td><td>0.0 </td><td><span style=white-space:pre-wrap>1.4  </span></td><td>1.2 </td><td>0.3 </td><td>0.7 </td><td>1.0 </td><td><span style=white-space:pre-wrap>1.5  </span></td><td><span style=white-space:pre-wrap>8.0  </span></td></tr>\n",
       "\t<tr><th scope=row>alk_phosphate</th><td>alk_phosphate</td><td>&lt;int&gt;</td><td>126</td><td>22</td><td>14.9</td><td>105.3</td><td>51.5</td><td>26.0</td><td>74.2</td><td>85.0</td><td>132.2</td><td>295.0</td></tr>\n",
       "\t<tr><th scope=row>sgot</th><td><span style=white-space:pre-wrap>sgot         </span></td><td>&lt;int&gt;</td><td>148</td><td> 0</td><td>0.0 </td><td>86.4 </td><td>90.5</td><td>14.0</td><td>31.0</td><td>58.0</td><td>103.2</td><td>648.0</td></tr>\n",
       "\t<tr><th scope=row>albumin</th><td><span style=white-space:pre-wrap>albumin      </span></td><td>&lt;dbl&gt;</td><td>139</td><td> 9</td><td>6.1 </td><td><span style=white-space:pre-wrap>3.8  </span></td><td>0.7 </td><td>2.1 </td><td>3.4 </td><td>4.0 </td><td><span style=white-space:pre-wrap>4.2  </span></td><td><span style=white-space:pre-wrap>6.4  </span></td></tr>\n",
       "\t<tr><th scope=row>protime</th><td><span style=white-space:pre-wrap>protime      </span></td><td>&lt;int&gt;</td><td> 88</td><td>60</td><td>40.5</td><td>61.9 </td><td>22.9</td><td>0.0 </td><td>46.0</td><td>61.0</td><td>76.2 </td><td>100.0</td></tr>\n",
       "</tbody>\n",
       "</table>\n",
       "</dd>\n",
       "\t<dt>$Categorical</dt>\n",
       "\t\t<dd><table class=\"dataframe\">\n",
       "<caption>A data.frame: 14 × 9</caption>\n",
       "<thead>\n",
       "\t<tr><th></th><th scope=col>label</th><th scope=col>var_type</th><th scope=col>n</th><th scope=col>missing_n</th><th scope=col>missing_percent</th><th scope=col>levels_n</th><th scope=col>levels</th><th scope=col>levels_count</th><th scope=col>levels_percent</th></tr>\n",
       "\t<tr><th></th><th scope=col>&lt;chr&gt;</th><th scope=col>&lt;chr&gt;</th><th scope=col>&lt;int&gt;</th><th scope=col>&lt;int&gt;</th><th scope=col>&lt;chr&gt;</th><th scope=col>&lt;int&gt;</th><th scope=col>&lt;chr&gt;</th><th scope=col>&lt;chr&gt;</th><th scope=col>&lt;chr&gt;</th></tr>\n",
       "</thead>\n",
       "<tbody>\n",
       "\t<tr><th scope=row>steroid</th><td><span style=white-space:pre-wrap>steroid        </span></td><td>&lt;fct&gt;</td><td>147</td><td>1</td><td>0.7</td><td>2</td><td>\"0\", \"1\", \"(Missing)\"</td><td>71, 76, 1 </td><td><span style=white-space:pre-wrap>47.97, 51.35,  0.68</span></td></tr>\n",
       "\t<tr><th scope=row>antivirals</th><td><span style=white-space:pre-wrap>antivirals     </span></td><td>&lt;fct&gt;</td><td>148</td><td>0</td><td>0.0</td><td>2</td><td><span style=white-space:pre-wrap>\"0\", \"1\"             </span></td><td><span style=white-space:pre-wrap>125, 23   </span></td><td><span style=white-space:pre-wrap>84, 16             </span></td></tr>\n",
       "\t<tr><th scope=row>fatigue</th><td><span style=white-space:pre-wrap>fatigue        </span></td><td>&lt;fct&gt;</td><td>148</td><td>0</td><td>0.0</td><td>2</td><td><span style=white-space:pre-wrap>\"0\", \"1\"             </span></td><td><span style=white-space:pre-wrap>51, 97    </span></td><td><span style=white-space:pre-wrap>34, 66             </span></td></tr>\n",
       "\t<tr><th scope=row>malaise</th><td><span style=white-space:pre-wrap>malaise        </span></td><td>&lt;fct&gt;</td><td>148</td><td>0</td><td>0.0</td><td>2</td><td><span style=white-space:pre-wrap>\"0\", \"1\"             </span></td><td><span style=white-space:pre-wrap>88, 60    </span></td><td><span style=white-space:pre-wrap>59, 41             </span></td></tr>\n",
       "\t<tr><th scope=row>anorexia</th><td><span style=white-space:pre-wrap>anorexia       </span></td><td>&lt;fct&gt;</td><td>148</td><td>0</td><td>0.0</td><td>2</td><td><span style=white-space:pre-wrap>\"0\", \"1\"             </span></td><td><span style=white-space:pre-wrap>117, 31   </span></td><td><span style=white-space:pre-wrap>79, 21             </span></td></tr>\n",
       "\t<tr><th scope=row>liver_big</th><td><span style=white-space:pre-wrap>liver_big      </span></td><td>&lt;fct&gt;</td><td>140</td><td>8</td><td>5.4</td><td>2</td><td>\"0\", \"1\", \"(Missing)\"</td><td>24, 116, 8</td><td><span style=white-space:pre-wrap>16.2, 78.4,  5.4   </span></td></tr>\n",
       "\t<tr><th scope=row>liver_firm</th><td><span style=white-space:pre-wrap>liver_firm     </span></td><td>&lt;fct&gt;</td><td>139</td><td>9</td><td>6.1</td><td>2</td><td>\"0\", \"1\", \"(Missing)\"</td><td>80, 59, 9 </td><td><span style=white-space:pre-wrap>54.1, 39.9,  6.1   </span></td></tr>\n",
       "\t<tr><th scope=row>spleen_palpable</th><td>spleen_palpable</td><td>&lt;fct&gt;</td><td>144</td><td>4</td><td>2.7</td><td>2</td><td>\"0\", \"1\", \"(Missing)\"</td><td>116, 28, 4</td><td><span style=white-space:pre-wrap>78.4, 18.9,  2.7   </span></td></tr>\n",
       "\t<tr><th scope=row>spiders</th><td><span style=white-space:pre-wrap>spiders        </span></td><td>&lt;fct&gt;</td><td>144</td><td>4</td><td>2.7</td><td>2</td><td>\"0\", \"1\", \"(Missing)\"</td><td>96, 48, 4 </td><td><span style=white-space:pre-wrap>64.9, 32.4,  2.7   </span></td></tr>\n",
       "\t<tr><th scope=row>ascites</th><td><span style=white-space:pre-wrap>ascites        </span></td><td>&lt;fct&gt;</td><td>144</td><td>4</td><td>2.7</td><td>2</td><td>\"0\", \"1\", \"(Missing)\"</td><td>124, 20, 4</td><td><span style=white-space:pre-wrap>83.8, 13.5,  2.7   </span></td></tr>\n",
       "\t<tr><th scope=row>varices</th><td><span style=white-space:pre-wrap>varices        </span></td><td>&lt;fct&gt;</td><td>144</td><td>4</td><td>2.7</td><td>2</td><td>\"0\", \"1\", \"(Missing)\"</td><td>126, 18, 4</td><td><span style=white-space:pre-wrap>85.1, 12.2,  2.7   </span></td></tr>\n",
       "\t<tr><th scope=row>histology</th><td><span style=white-space:pre-wrap>histology      </span></td><td>&lt;fct&gt;</td><td>148</td><td>0</td><td>0.0</td><td>2</td><td><span style=white-space:pre-wrap>\"0\", \"1\"             </span></td><td><span style=white-space:pre-wrap>80, 68    </span></td><td><span style=white-space:pre-wrap>54, 46             </span></td></tr>\n",
       "\t<tr><th scope=row>male</th><td><span style=white-space:pre-wrap>male           </span></td><td>&lt;fct&gt;</td><td>148</td><td>0</td><td>0.0</td><td>2</td><td><span style=white-space:pre-wrap>\"0\", \"1\"             </span></td><td><span style=white-space:pre-wrap>132, 16   </span></td><td><span style=white-space:pre-wrap>89, 11             </span></td></tr>\n",
       "\t<tr><th scope=row>die</th><td><span style=white-space:pre-wrap>die            </span></td><td>&lt;fct&gt;</td><td>148</td><td>0</td><td>0.0</td><td>2</td><td><span style=white-space:pre-wrap>\"0\", \"1\"             </span></td><td><span style=white-space:pre-wrap>118, 30   </span></td><td><span style=white-space:pre-wrap>80, 20             </span></td></tr>\n",
       "</tbody>\n",
       "</table>\n",
       "</dd>\n",
       "</dl>\n"
      ],
      "text/latex": [
       "\\begin{description}\n",
       "\\item[\\$Continuous] A data.frame: 6 × 12\n",
       "\\begin{tabular}{r|llllllllllll}\n",
       "  & label & var\\_type & n & missing\\_n & missing\\_percent & mean & sd & min & quartile\\_25 & median & quartile\\_75 & max\\\\\n",
       "  & <chr> & <chr> & <int> & <int> & <chr> & <chr> & <chr> & <chr> & <chr> & <chr> & <chr> & <chr>\\\\\n",
       "\\hline\n",
       "\tage & age           & <int> & 148 &  0 & 0.0  & 41.1  & 12.5 & 7.0  & 32.0 & 39.0 & 50.0  & 78.0 \\\\\n",
       "\tbilirubin & bilirubin     & <dbl> & 148 &  0 & 0.0  & 1.4   & 1.2  & 0.3  & 0.7  & 1.0  & 1.5   & 8.0  \\\\\n",
       "\talk\\_phosphate & alk\\_phosphate & <int> & 126 & 22 & 14.9 & 105.3 & 51.5 & 26.0 & 74.2 & 85.0 & 132.2 & 295.0\\\\\n",
       "\tsgot & sgot          & <int> & 148 &  0 & 0.0  & 86.4  & 90.5 & 14.0 & 31.0 & 58.0 & 103.2 & 648.0\\\\\n",
       "\talbumin & albumin       & <dbl> & 139 &  9 & 6.1  & 3.8   & 0.7  & 2.1  & 3.4  & 4.0  & 4.2   & 6.4  \\\\\n",
       "\tprotime & protime       & <int> &  88 & 60 & 40.5 & 61.9  & 22.9 & 0.0  & 46.0 & 61.0 & 76.2  & 100.0\\\\\n",
       "\\end{tabular}\n",
       "\n",
       "\\item[\\$Categorical] A data.frame: 14 × 9\n",
       "\\begin{tabular}{r|lllllllll}\n",
       "  & label & var\\_type & n & missing\\_n & missing\\_percent & levels\\_n & levels & levels\\_count & levels\\_percent\\\\\n",
       "  & <chr> & <chr> & <int> & <int> & <chr> & <int> & <chr> & <chr> & <chr>\\\\\n",
       "\\hline\n",
       "\tsteroid & steroid         & <fct> & 147 & 1 & 0.7 & 2 & \"0\", \"1\", \"(Missing)\" & 71, 76, 1  & 47.97, 51.35,  0.68\\\\\n",
       "\tantivirals & antivirals      & <fct> & 148 & 0 & 0.0 & 2 & \"0\", \"1\"              & 125, 23    & 84, 16             \\\\\n",
       "\tfatigue & fatigue         & <fct> & 148 & 0 & 0.0 & 2 & \"0\", \"1\"              & 51, 97     & 34, 66             \\\\\n",
       "\tmalaise & malaise         & <fct> & 148 & 0 & 0.0 & 2 & \"0\", \"1\"              & 88, 60     & 59, 41             \\\\\n",
       "\tanorexia & anorexia        & <fct> & 148 & 0 & 0.0 & 2 & \"0\", \"1\"              & 117, 31    & 79, 21             \\\\\n",
       "\tliver\\_big & liver\\_big       & <fct> & 140 & 8 & 5.4 & 2 & \"0\", \"1\", \"(Missing)\" & 24, 116, 8 & 16.2, 78.4,  5.4   \\\\\n",
       "\tliver\\_firm & liver\\_firm      & <fct> & 139 & 9 & 6.1 & 2 & \"0\", \"1\", \"(Missing)\" & 80, 59, 9  & 54.1, 39.9,  6.1   \\\\\n",
       "\tspleen\\_palpable & spleen\\_palpable & <fct> & 144 & 4 & 2.7 & 2 & \"0\", \"1\", \"(Missing)\" & 116, 28, 4 & 78.4, 18.9,  2.7   \\\\\n",
       "\tspiders & spiders         & <fct> & 144 & 4 & 2.7 & 2 & \"0\", \"1\", \"(Missing)\" & 96, 48, 4  & 64.9, 32.4,  2.7   \\\\\n",
       "\tascites & ascites         & <fct> & 144 & 4 & 2.7 & 2 & \"0\", \"1\", \"(Missing)\" & 124, 20, 4 & 83.8, 13.5,  2.7   \\\\\n",
       "\tvarices & varices         & <fct> & 144 & 4 & 2.7 & 2 & \"0\", \"1\", \"(Missing)\" & 126, 18, 4 & 85.1, 12.2,  2.7   \\\\\n",
       "\thistology & histology       & <fct> & 148 & 0 & 0.0 & 2 & \"0\", \"1\"              & 80, 68     & 54, 46             \\\\\n",
       "\tmale & male            & <fct> & 148 & 0 & 0.0 & 2 & \"0\", \"1\"              & 132, 16    & 89, 11             \\\\\n",
       "\tdie & die             & <fct> & 148 & 0 & 0.0 & 2 & \"0\", \"1\"              & 118, 30    & 80, 20             \\\\\n",
       "\\end{tabular}\n",
       "\n",
       "\\end{description}\n"
      ],
      "text/markdown": [
       "$Continuous\n",
       ":   \n",
       "A data.frame: 6 × 12\n",
       "\n",
       "| <!--/--> | label &lt;chr&gt; | var_type &lt;chr&gt; | n &lt;int&gt; | missing_n &lt;int&gt; | missing_percent &lt;chr&gt; | mean &lt;chr&gt; | sd &lt;chr&gt; | min &lt;chr&gt; | quartile_25 &lt;chr&gt; | median &lt;chr&gt; | quartile_75 &lt;chr&gt; | max &lt;chr&gt; |\n",
       "|---|---|---|---|---|---|---|---|---|---|---|---|---|\n",
       "| age | age           | &lt;int&gt; | 148 |  0 | 0.0  | 41.1  | 12.5 | 7.0  | 32.0 | 39.0 | 50.0  | 78.0  |\n",
       "| bilirubin | bilirubin     | &lt;dbl&gt; | 148 |  0 | 0.0  | 1.4   | 1.2  | 0.3  | 0.7  | 1.0  | 1.5   | 8.0   |\n",
       "| alk_phosphate | alk_phosphate | &lt;int&gt; | 126 | 22 | 14.9 | 105.3 | 51.5 | 26.0 | 74.2 | 85.0 | 132.2 | 295.0 |\n",
       "| sgot | sgot          | &lt;int&gt; | 148 |  0 | 0.0  | 86.4  | 90.5 | 14.0 | 31.0 | 58.0 | 103.2 | 648.0 |\n",
       "| albumin | albumin       | &lt;dbl&gt; | 139 |  9 | 6.1  | 3.8   | 0.7  | 2.1  | 3.4  | 4.0  | 4.2   | 6.4   |\n",
       "| protime | protime       | &lt;int&gt; |  88 | 60 | 40.5 | 61.9  | 22.9 | 0.0  | 46.0 | 61.0 | 76.2  | 100.0 |\n",
       "\n",
       "\n",
       "$Categorical\n",
       ":   \n",
       "A data.frame: 14 × 9\n",
       "\n",
       "| <!--/--> | label &lt;chr&gt; | var_type &lt;chr&gt; | n &lt;int&gt; | missing_n &lt;int&gt; | missing_percent &lt;chr&gt; | levels_n &lt;int&gt; | levels &lt;chr&gt; | levels_count &lt;chr&gt; | levels_percent &lt;chr&gt; |\n",
       "|---|---|---|---|---|---|---|---|---|---|\n",
       "| steroid | steroid         | &lt;fct&gt; | 147 | 1 | 0.7 | 2 | \"0\", \"1\", \"(Missing)\" | 71, 76, 1  | 47.97, 51.35,  0.68 |\n",
       "| antivirals | antivirals      | &lt;fct&gt; | 148 | 0 | 0.0 | 2 | \"0\", \"1\"              | 125, 23    | 84, 16              |\n",
       "| fatigue | fatigue         | &lt;fct&gt; | 148 | 0 | 0.0 | 2 | \"0\", \"1\"              | 51, 97     | 34, 66              |\n",
       "| malaise | malaise         | &lt;fct&gt; | 148 | 0 | 0.0 | 2 | \"0\", \"1\"              | 88, 60     | 59, 41              |\n",
       "| anorexia | anorexia        | &lt;fct&gt; | 148 | 0 | 0.0 | 2 | \"0\", \"1\"              | 117, 31    | 79, 21              |\n",
       "| liver_big | liver_big       | &lt;fct&gt; | 140 | 8 | 5.4 | 2 | \"0\", \"1\", \"(Missing)\" | 24, 116, 8 | 16.2, 78.4,  5.4    |\n",
       "| liver_firm | liver_firm      | &lt;fct&gt; | 139 | 9 | 6.1 | 2 | \"0\", \"1\", \"(Missing)\" | 80, 59, 9  | 54.1, 39.9,  6.1    |\n",
       "| spleen_palpable | spleen_palpable | &lt;fct&gt; | 144 | 4 | 2.7 | 2 | \"0\", \"1\", \"(Missing)\" | 116, 28, 4 | 78.4, 18.9,  2.7    |\n",
       "| spiders | spiders         | &lt;fct&gt; | 144 | 4 | 2.7 | 2 | \"0\", \"1\", \"(Missing)\" | 96, 48, 4  | 64.9, 32.4,  2.7    |\n",
       "| ascites | ascites         | &lt;fct&gt; | 144 | 4 | 2.7 | 2 | \"0\", \"1\", \"(Missing)\" | 124, 20, 4 | 83.8, 13.5,  2.7    |\n",
       "| varices | varices         | &lt;fct&gt; | 144 | 4 | 2.7 | 2 | \"0\", \"1\", \"(Missing)\" | 126, 18, 4 | 85.1, 12.2,  2.7    |\n",
       "| histology | histology       | &lt;fct&gt; | 148 | 0 | 0.0 | 2 | \"0\", \"1\"              | 80, 68     | 54, 46              |\n",
       "| male | male            | &lt;fct&gt; | 148 | 0 | 0.0 | 2 | \"0\", \"1\"              | 132, 16    | 89, 11              |\n",
       "| die | die             | &lt;fct&gt; | 148 | 0 | 0.0 | 2 | \"0\", \"1\"              | 118, 30    | 80, 20              |\n",
       "\n",
       "\n",
       "\n",
       "\n"
      ],
      "text/plain": [
       "$Continuous\n",
       "                      label var_type   n missing_n missing_percent  mean   sd\n",
       "age                     age    <int> 148         0             0.0  41.1 12.5\n",
       "bilirubin         bilirubin    <dbl> 148         0             0.0   1.4  1.2\n",
       "alk_phosphate alk_phosphate    <int> 126        22            14.9 105.3 51.5\n",
       "sgot                   sgot    <int> 148         0             0.0  86.4 90.5\n",
       "albumin             albumin    <dbl> 139         9             6.1   3.8  0.7\n",
       "protime             protime    <int>  88        60            40.5  61.9 22.9\n",
       "               min quartile_25 median quartile_75   max\n",
       "age            7.0        32.0   39.0        50.0  78.0\n",
       "bilirubin      0.3         0.7    1.0         1.5   8.0\n",
       "alk_phosphate 26.0        74.2   85.0       132.2 295.0\n",
       "sgot          14.0        31.0   58.0       103.2 648.0\n",
       "albumin        2.1         3.4    4.0         4.2   6.4\n",
       "protime        0.0        46.0   61.0        76.2 100.0\n",
       "\n",
       "$Categorical\n",
       "                          label var_type   n missing_n missing_percent levels_n\n",
       "steroid                 steroid    <fct> 147         1             0.7        2\n",
       "antivirals           antivirals    <fct> 148         0             0.0        2\n",
       "fatigue                 fatigue    <fct> 148         0             0.0        2\n",
       "malaise                 malaise    <fct> 148         0             0.0        2\n",
       "anorexia               anorexia    <fct> 148         0             0.0        2\n",
       "liver_big             liver_big    <fct> 140         8             5.4        2\n",
       "liver_firm           liver_firm    <fct> 139         9             6.1        2\n",
       "spleen_palpable spleen_palpable    <fct> 144         4             2.7        2\n",
       "spiders                 spiders    <fct> 144         4             2.7        2\n",
       "ascites                 ascites    <fct> 144         4             2.7        2\n",
       "varices                 varices    <fct> 144         4             2.7        2\n",
       "histology             histology    <fct> 148         0             0.0        2\n",
       "male                       male    <fct> 148         0             0.0        2\n",
       "die                         die    <fct> 148         0             0.0        2\n",
       "                               levels levels_count      levels_percent\n",
       "steroid         \"0\", \"1\", \"(Missing)\"    71, 76, 1 47.97, 51.35,  0.68\n",
       "antivirals                   \"0\", \"1\"      125, 23              84, 16\n",
       "fatigue                      \"0\", \"1\"       51, 97              34, 66\n",
       "malaise                      \"0\", \"1\"       88, 60              59, 41\n",
       "anorexia                     \"0\", \"1\"      117, 31              79, 21\n",
       "liver_big       \"0\", \"1\", \"(Missing)\"   24, 116, 8    16.2, 78.4,  5.4\n",
       "liver_firm      \"0\", \"1\", \"(Missing)\"    80, 59, 9    54.1, 39.9,  6.1\n",
       "spleen_palpable \"0\", \"1\", \"(Missing)\"   116, 28, 4    78.4, 18.9,  2.7\n",
       "spiders         \"0\", \"1\", \"(Missing)\"    96, 48, 4    64.9, 32.4,  2.7\n",
       "ascites         \"0\", \"1\", \"(Missing)\"   124, 20, 4    83.8, 13.5,  2.7\n",
       "varices         \"0\", \"1\", \"(Missing)\"   126, 18, 4    85.1, 12.2,  2.7\n",
       "histology                    \"0\", \"1\"       80, 68              54, 46\n",
       "male                         \"0\", \"1\"      132, 16              89, 11\n",
       "die                          \"0\", \"1\"      118, 30              80, 20\n"
      ]
     },
     "metadata": {},
     "output_type": "display_data"
    }
   ],
   "source": [
    "ff_glimpse(hep)"
   ]
  },
  {
   "cell_type": "code",
   "execution_count": 11,
   "metadata": {
    "vscode": {
     "languageId": "r"
    }
   },
   "outputs": [
    {
     "name": "stderr",
     "output_type": "stream",
     "text": [
      "\u001b[1m\u001b[22m`summarise()` has grouped output by 'anorexia'. You can override using the\n",
      "`.groups` argument.\n"
     ]
    },
    {
     "data": {
      "image/png": "[encoded data removed]",
      "text/plain": [
       "plot without title"
      ]
     },
     "metadata": {
      "image/png": {
       "height": 300,
       "width": 600
      }
     },
     "output_type": "display_data"
    }
   ],
   "source": [
    "options(repr.plot.width = 10, repr.plot.height = 5)\n",
    "\n",
    "hep$alk_miss <- ifelse(is.na(hep$alk_phosphate), \"Missing\", \"Not Missing\")\n",
    "\n",
    "ano_freq <- hep %>%\n",
    "    group_by(anorexia, alk_miss) %>%\n",
    "    summarize(count = n()) %>%\n",
    "    mutate(freq = count/sum(count))\n",
    "\n",
    "missPlotCat(ano_freq, \"alk_miss\", \"freq\", \"anorexia\", \"alk_phosphate missingness vs anorexia\", 2)"
   ]
  },
  {
   "cell_type": "code",
   "execution_count": 14,
   "metadata": {
    "vscode": {
     "languageId": "r"
    }
   },
   "outputs": [
    {
     "name": "stderr",
     "output_type": "stream",
     "text": [
      "\u001b[1m\u001b[22m`summarise()` has grouped output by 'liver_firm'. You can override using the\n",
      "`.groups` argument.\n"
     ]
    },
    {
     "data": {
      "image/png": "[encoded data removed]",
      "text/plain": [
       "plot without title"
      ]
     },
     "metadata": {
      "image/png": {
       "height": 600,
       "width": 600
      }
     },
     "output_type": "display_data"
    }
   ],
   "source": [
    "options(repr.plot.width = 10, repr.plot.height = 10)\n",
    "\n",
    "liv_freq <- hep %>%\n",
    "    group_by(liver_firm, alk_miss) %>%\n",
    "    summarize(count = n()) %>%\n",
    "    mutate(freq = count/sum(count))\n",
    "\n",
    "missPlotCat(liv_freq, \"alk_miss\", \"freq\", \"liver_firm\", \"alk_phosphate missingness vs liver_firm\", 2)"
   ]
  },
  {
   "cell_type": "code",
   "execution_count": 16,
   "metadata": {
    "vscode": {
     "languageId": "r"
    }
   },
   "outputs": [
    {
     "name": "stderr",
     "output_type": "stream",
     "text": [
      "\u001b[1m\u001b[22m`summarise()` has grouped output by 'male'. You can override using the\n",
      "`.groups` argument.\n"
     ]
    },
    {
     "data": {
      "image/png": "[encoded data removed]",
      "text/plain": [
       "plot without title"
      ]
     },
     "metadata": {
      "image/png": {
       "height": 300,
       "width": 600
      }
     },
     "output_type": "display_data"
    }
   ],
   "source": [
    "options(repr.plot.width = 10, repr.plot.height = 5)\n",
    "\n",
    "male_freq <- hep %>%\n",
    "    group_by(male, alk_miss) %>%\n",
    "    summarize(count = n()) %>%\n",
    "    mutate(freq = count/sum(count))\n",
    "\n",
    "missPlotCat(male_freq, \"alk_miss\", \"freq\", \"male\", \"alk_phosphate missingness vs male\", 2)"
   ]
  },
  {
   "cell_type": "code",
   "execution_count": 17,
   "metadata": {
    "vscode": {
     "languageId": "r"
    }
   },
   "outputs": [
    {
     "name": "stderr",
     "output_type": "stream",
     "text": [
      "\u001b[1m\u001b[22m`summarise()` has grouped output by 'die'. You can override using the `.groups`\n",
      "argument.\n"
     ]
    },
    {
     "data": {
      "image/png": "[encoded data removed]",
      "text/plain": [
       "plot without title"
      ]
     },
     "metadata": {
      "image/png": {
       "height": 300,
       "width": 600
      }
     },
     "output_type": "display_data"
    }
   ],
   "source": [
    "options(repr.plot.width = 10, repr.plot.height = 5)\n",
    "\n",
    "hep$livb_miss <- ifelse(is.na(hep$liver_big), \"Missing\", \"Not Missing\")\n",
    "\n",
    "die_freq <- hep %>%\n",
    "    group_by(die, livb_miss) %>%\n",
    "    summarize(count = n()) %>%\n",
    "    mutate(freq = count/sum(count))\n",
    "\n",
    "missPlotCat(die_freq, \"livb_miss\", \"freq\", \"die\", \"liver_big missingness vs die\", 2)"
   ]
  },
  {
   "cell_type": "code",
   "execution_count": null,
   "metadata": {
    "vscode": {
     "languageId": "r"
    }
   },
   "outputs": [],
   "source": []
  }
 ],
 "metadata": {
  "kernelspec": {
   "display_name": "R",
   "language": "R",
   "name": "ir"
  },
  "language_info": {
   "codemirror_mode": "r",
   "file_extension": ".r",
   "mimetype": "text/x-r-source",
   "name": "R",
   "pygments_lexer": "r",
   "version": "4.3.1"
  }
 },
 "nbformat": 4,
 "nbformat_minor": 2
}
